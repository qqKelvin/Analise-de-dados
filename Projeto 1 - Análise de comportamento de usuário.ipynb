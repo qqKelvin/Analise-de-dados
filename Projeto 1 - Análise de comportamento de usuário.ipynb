{
 "cells": [
  {
   "cell_type": "markdown",
   "metadata": {},
   "source": [
    "\n",
    "\n",
    "Olá estudante!\n",
    "\n",
    "Me chamo Rafael Meirelles e irei revisar o seu projeto hoje e em eventuais futuras submissões até que ele cumpra todos os requisitos para o aceite.\n",
    "Conte comigo nessa jornada e não se preocupe se precisar ajustar alguns detalhes, é parte do processo e fundamental para que você exercite os conceitos que vem aprendendo e assim melhore a qualidade dos seus códigos e análises.\n",
    "\n",
    "**Peço que mantenha e não altereos comentários que eu fizer por aqui para que possamos nos localizar posteriormente, ok?**\n",
    "\n",
    "Mais uma coisa, vamos utilizar um código de cores para você entender os meus feedbacks no seu notebook. Funciona assim:\n",
    "\n",
    "\n",
    "<div class=\"alert alert-danger\">\n",
    "<strong>Vermelho</strong>\n",
    "\n",
    "Erro que precisa ser consertado, caso contrário, seu projeto não pode ser aceito\n",
    "\n",
    "</div>\n",
    "\n",
    "<div class=\"alert alert-warning\">\n",
    "<strong>Amarelo</strong>\n",
    "\n",
    "Alerta de um erro não crítco, mas que pode ser corrigido para melhoria geral no seu código/análise\n",
    "\n",
    "</div>\n",
    "\n",
    "<div class=\"alert alert-success\">\n",
    "<strong>Verde</strong>\n",
    "\n",
    "Elogios\n",
    "</div>\n",
    "\n",
    "<div class=\"alert alert-info\">\n",
    "<strong>Comentário do estudante</strong>\n",
    "\n",
    "Use uma caixa azul como essa para eventuais comentários que você gostaria de fazer para mim.\n",
    "</div>\n",
    "\n",
    "\n",
    "\n",
    "\n",
    "\n",
    "\n"
   ]
  },
  {
   "cell_type": "markdown",
   "metadata": {
    "id": "FnPB8Fx5TMRb"
   },
   "source": [
    "Uma empresa de comércio eletrônico, Store 1, começou recentemente a coletar dados sobre seus clientes. O objetivo da Store 1 é entender melhor o comportamento dos clientes e tomar decisões baseadas em dados para melhorar experiência online deles.\n",
    "\n",
    "Como parte da equipe analítica, sua primeira tarefa é avaliar a qualidade de uma amostra de dados coletados e preparar elas para análises futuras."
   ]
  },
  {
   "cell_type": "markdown",
   "metadata": {
    "id": "vLW81iYmTMRe"
   },
   "source": [
    "# Quiz\n",
    "\n",
    "A Store 1 visa garantir a consistência na coleta de dados. Como parte desse esforço, a qualidade dos dados coletados sobre os usuários precisa ser avaliada. Foi pedido que você revise os dados coletados e proponha alterações. Abaixo, você verá dados sobre um determinado usuário. Revise os dados e identifique possíveis problemas."
   ]
  },
  {
   "cell_type": "code",
   "execution_count": null,
   "metadata": {
    "id": "i7_O27ZRTMRe"
   },
   "outputs": [],
   "source": [
    "user_id = '32415'\n",
    "user_name = ' mike_reed '\n",
    "user_age = 32.0\n",
    "fav_categories = ['ELECTRONICS', 'SPORT', 'BOOKS']"
   ]
  },
  {
   "cell_type": "markdown",
   "metadata": {
    "id": "Dyjbn7MhTMRg"
   },
   "source": [
    "**Opções:**\n",
    "\n",
    "1. O tipo de dados de `user_id` deve ser alterado de string para número inteiro (integer).\n",
    "    \n",
    "2. A variável `user_name` contém uma string com espaçamento desnecessário e um sublinhado entre o nome e o sobrenome.\n",
    "    \n",
    "3. O tipo de dados de `user_age` está incorreto.\n",
    "    \n",
    "4. A lista `fav_categories` contém strings em letras maiúsculas. Em vez disso, devemos converter os valores da lista para letras minúsculas."
   ]
  },
  {
   "cell_type": "markdown",
   "metadata": {
    "id": "AIsnk-vCTMRg"
   },
   "source": [
    "Escreva na célula Markdown abaixo o número de opções que você identificou como problemas. Se você identificou vários problemas, separe o número por vírgulas. Por exemplo, se você acha que os números 1 e 3 estão incorretos, escreva 1, 3, e explique o motivo."
   ]
  },
  {
   "cell_type": "raw",
   "metadata": {
    "id": "70wSe_MjTMRh"
   },
   "source": [
    "1,2 e 3 estão \"incorretos\". \n",
    " \n",
    " O número 1 está incorreto, porque user_id, se refere a um número e não a uma string e por ser numero, deve ser do tipo int e deixar sem aspas.  O numero 2 pode causar problemas no futuro ao tentar manipular a string por conter espaços desnecessários e sublinhado e o número 3 está incorreto baseado no contexto, porque a idade se trata de um número inteiro e não um número de ponto flutuante."
   ]
  },
  {
   "cell_type": "markdown",
   "metadata": {},
   "source": [
    "<div class=\"alert alert-success\">\n",
    "<strong>Comentário do revisor v1</strong>\n",
    "\n",
    "Bom trabalho com a introdução\n",
    "</div>\n"
   ]
  },
  {
   "cell_type": "markdown",
   "metadata": {
    "id": "IH19D6NiTMRh"
   },
   "source": [
    "# Tarefa 1\n",
    "\n",
    "Vamos implementar as mudanças que identificamos. Primeiro, queremos corrigir os problemas com a variável `user_name`. Como verificamos, ela possui espaços desnecessários e um sublinhado como separador entre o nome e o sobrenome. Seu objetivo é remover os espaços e depois substituir o sublinhado por espaço."
   ]
  },
  {
   "cell_type": "code",
   "execution_count": 5,
   "metadata": {
    "id": "HxZLfyLeTMRh",
    "scrolled": true
   },
   "outputs": [
    {
     "name": "stdout",
     "output_type": "stream",
     "text": [
      "mike reed\n"
     ]
    }
   ],
   "source": [
    "user_name = ' mike_reed '\n",
    "\n",
    "user_name = user_name.strip() # strip para remover os espaços no começo e no fim.\n",
    "\n",
    "user_name = user_name.replace(\"_\", \" \") # replace para substituir o sublinhado por espaço.\n",
    "\n",
    "print(user_name)"
   ]
  },
  {
   "cell_type": "markdown",
   "metadata": {},
   "source": [
    "<div class=\"alert alert-success\">\n",
    "<strong>Comentário do revisor v2</strong>\n",
    "\n",
    "Valeu pelo ajuste!\n",
    "</div>\n"
   ]
  },
  {
   "cell_type": "markdown",
   "metadata": {
    "id": "LYGHRijzTMRi"
   },
   "source": [
    "# Tarefa 2\n",
    "\n",
    "Em seguida, precisamos dividir o `user_name` atualizado em duas substrings para obter uma lista que contém dois valores: a string para o nome e a string para o sobrenome."
   ]
  },
  {
   "cell_type": "code",
   "execution_count": 6,
   "metadata": {
    "id": "NOErvTX0TMRi"
   },
   "outputs": [
    {
     "name": "stdout",
     "output_type": "stream",
     "text": [
      "['mike', 'reed']\n"
     ]
    }
   ],
   "source": [
    "user_name = 'mike reed'\n",
    "name_split = user_name.split() # split para dividir a string em partes.\n",
    "\n",
    "print(name_split)"
   ]
  },
  {
   "cell_type": "markdown",
   "metadata": {
    "id": "9uRRxzLlTMRj"
   },
   "source": [
    "# Tarefa 3\n",
    "\n",
    "Ótimo! Agora queremos trabalhar com a variável `user_age`. Como mencionamos antes, ela possui um tipo de dados incorretos. Vamos corrigir esse problema transformando o tipo de dados e imprimindo o resultado final."
   ]
  },
  {
   "cell_type": "code",
   "execution_count": 9,
   "metadata": {
    "id": "j9TH2Z4dTMRk"
   },
   "outputs": [
    {
     "name": "stdout",
     "output_type": "stream",
     "text": [
      "32\n"
     ]
    }
   ],
   "source": [
    "user_age = 32.0\n",
    "user_age = int(user_age) # int transforma numero de ponto flutuante em numero inteiro\n",
    "\n",
    "print(user_age)"
   ]
  },
  {
   "cell_type": "markdown",
   "metadata": {
    "id": "pAjBZI5_TMRk"
   },
   "source": [
    "# Tarefa 4\n",
    "\n",
    "Como sabemos, os dados nem sempre são perfeitos. Temos que considerar cenários em que o valor de `user_age` não pode ser convertido em um número inteiro. Para evitar que nosso sistema falhe, devemos tomar medidas com antecedência.\n",
    "\n",
    "Escreva um código que tenta converter a variável `user_age` em um número inteiro e atribua o valor transformado a `user_age_int`. Se a tentativa falhar, vamos exibir uma mensagem solicitando que o usuário forneça sua idade como um valor numérico com a mensagem: `Forneça sua idade como um valor numérico.`"
   ]
  },
  {
   "cell_type": "code",
   "execution_count": 6,
   "metadata": {
    "id": "rB6ggdMXTMRl",
    "scrolled": true
   },
   "outputs": [
    {
     "name": "stdout",
     "output_type": "stream",
     "text": [
      "Forneça sua idade como um valor numérico\n"
     ]
    }
   ],
   "source": [
    "user_age = 'thirty two' # esta é a variável que armazena a idade como uma string.\n",
    "user_age_int = 32\n",
    "\n",
    "try:\n",
    "    user_age_int = int(user_age) #armazena o valor convertido.\n",
    "except:\n",
    "    print('Forneça sua idade como um valor numérico')\n",
    "    \n",
    "    # escreva um código que vai tentar transformar user_age em um número inteiro e, se falhar, vai imprimir a mensagem especificada"
   ]
  },
  {
   "cell_type": "markdown",
   "metadata": {},
   "source": [
    "<div class=\"alert alert-success\">\n",
    "<strong>Comentário do revisor v1</strong>\n",
    "\n",
    "A questão está correta!\n",
    "\n",
    "</div>\n",
    "\n",
    "\n"
   ]
  },
  {
   "cell_type": "markdown",
   "metadata": {
    "id": "mRiGSPmOTMRl"
   },
   "source": [
    "# Tarefa 5\n",
    "\n",
    "Por fim, observe que todas as categorias de favoritos são armazenadas em letras maiúsculas. Para preencher uma nova lista chamada `fav_categories_low` com as mesmas categorias, mas em letras minúsculas, repita os valores na lista `fav_categories`, os modifique e anexe os novos valores à lista `fav_categories_low`. Como sempre, imprima o resultado final."
   ]
  },
  {
   "cell_type": "code",
   "execution_count": 15,
   "metadata": {
    "id": "WpeCezPvTMRl"
   },
   "outputs": [
    {
     "name": "stdout",
     "output_type": "stream",
     "text": [
      "['electronics', 'sport', 'books']\n"
     ]
    }
   ],
   "source": [
    "fav_categories = ['ELECTRONICS', 'SPORT', 'BOOKS']\n",
    "fav_categories_low = []\n",
    "\n",
    "for categories in fav_categories: # for para procurar na lista\n",
    "    fav_categories_low.append(categories.lower()) # append para adicionar as mudanças na nova lista e lower para transformar em minusculo.\n",
    "    \n",
    "    # escreva seu código aqui\n",
    "\n",
    "# não remova a instrução de impressão abaixo\n",
    "print(fav_categories_low)"
   ]
  },
  {
   "cell_type": "markdown",
   "metadata": {},
   "source": [
    "<div class=\"alert alert-success\">\n",
    "<strong>Comentário do revisor v1</strong>\n",
    "\n",
    "A questão está correta!\n",
    "\n",
    "</div>\n",
    "\n",
    "\n"
   ]
  },
  {
   "cell_type": "markdown",
   "metadata": {
    "id": "wtdhH2U3TMRm"
   },
   "source": [
    "# Tarefa 6\n",
    "\n",
    "Conseguimos informações adicionais sobre os hábitos de consumo de nossos usuários, incluindo o valor gasto em cada uma de suas categorias favoritas. A administração está interessada nas seguintes métricas:\n",
    "\n",
    "- Valor total gasto pelo usuário\n",
    "- Valor mínimo gasto\n",
    "- Valor máximo gasto\n",
    "\n",
    "Vamos calcular e imprimir esses valores:"
   ]
  },
  {
   "cell_type": "code",
   "execution_count": 18,
   "metadata": {
    "id": "FJrkCnPTTMRm"
   },
   "outputs": [
    {
     "name": "stdout",
     "output_type": "stream",
     "text": [
      "1280\n",
      "894\n",
      "173\n"
     ]
    }
   ],
   "source": [
    "fav_categories_low = ['electronics', 'sport', 'books']\n",
    "spendings_per_category = [894, 213, 173]\n",
    "\n",
    "total_amount =  sum(spendings_per_category) # sum faz a soma de todos os valores da lista\n",
    "max_amount =  max(spendings_per_category) # max encontra o numero de maior valor na lista\n",
    "min_amount = min(spendings_per_category) # min encontra o menor valor da lista\n",
    "\n",
    "# não remova a instrução de impressão abaixo\n",
    "print(total_amount)\n",
    "print(max_amount)\n",
    "print(min_amount)"
   ]
  },
  {
   "cell_type": "markdown",
   "metadata": {},
   "source": [
    "<div class=\"alert alert-success\">\n",
    "<strong>Comentário do revisor v1</strong>\n",
    "\n",
    "A questão está correta!\n",
    "\n",
    "</div>\n",
    "\n",
    "\n"
   ]
  },
  {
   "cell_type": "markdown",
   "metadata": {
    "id": "teiKWjy4TMRn"
   },
   "source": [
    "# Tarefa 7\n",
    "\n",
    "A empresa quer oferecer descontos aos seus clientes fiéis. Clientes que fizerem compras totalizando mais de $1.500 são considerados fiéis e vão receber um desconto.\n",
    "\n",
    "Nosso objetivo é criar um ciclo `while` que verifique o valor total gasto e pare quando ele for atingido. Para simular novas compras, a variável `new_purchase` gera um número entre 30 e 80 em cada ciclo. Isso representa a quantidade de dinheiro gasto em uma nova compra, e é o que você precisa adicionar ao total.\n",
    "\n",
    "Assim que o valor alvo for atingido e o ciclo `while` for encerrado, o valor final será impresso."
   ]
  },
  {
   "cell_type": "code",
   "execution_count": 19,
   "metadata": {
    "id": "HPvkbyzATMRn"
   },
   "outputs": [
    {
     "name": "stdout",
     "output_type": "stream",
     "text": [
      "1513\n"
     ]
    }
   ],
   "source": [
    "from random import randint\n",
    "\n",
    "total_amount_spent = 1280\n",
    "target_amount = 1500\n",
    "\n",
    "while total_amount_spent <= target_amount: # condição para verificar se o total gasto é maior ou igual ao total o valor pedido.\n",
    "\tnew_purchase = randint(30, 80) # geramos um número aleatório de 30 a 80\n",
    "\ttotal_amount_spent += new_purchase # escreva seu código aqui\n",
    "\n",
    "print(total_amount_spent)"
   ]
  },
  {
   "cell_type": "markdown",
   "metadata": {},
   "source": [
    "<div class=\"alert alert-success\">\n",
    "<strong>Comentário do revisor v1</strong>\n",
    "\n",
    "A questão está correta!\n",
    "\n",
    "</div>\n",
    "\n",
    "\n"
   ]
  },
  {
   "cell_type": "markdown",
   "metadata": {
    "id": "jwzs5Ad2TMRn"
   },
   "source": [
    "# Tarefa 8\n",
    "\n",
    "Agora temos todas as informações sobre um cliente da maneira que queremos. A administração de uma empresa nos pediu para encontrar uma maneira de resumir toda a informação sobre um usuário. Seu objetivo é criar uma string formatada que usa informações das variáveis ​​`user_id`, `user_name` e `user_age`.\n",
    "\n",
    "Aqui está a string final que queremos criar: `Usuário 32415 chama-se mike e tem 32 anos.`"
   ]
  },
  {
   "cell_type": "code",
   "execution_count": 18,
   "metadata": {
    "id": "Da4RJ_gLTMRo"
   },
   "outputs": [
    {
     "name": "stdout",
     "output_type": "stream",
     "text": [
      "Usuário 32415 chame-se mike e tem 32.\n"
     ]
    }
   ],
   "source": [
    "user_id = '32415'\n",
    "user_name = ['mike', 'reed']\n",
    "user_age = 32\n",
    "\n",
    "\n",
    "user_info = f\"Usuário {user_id} chame-se {user_name[0]} e tem {user_age}.\" # [0] em user_name para acessar o primeiro nome da lista \n",
    "\n",
    "# não remova a instrução de impressão abaixo\n",
    "print(user_info)"
   ]
  },
  {
   "cell_type": "markdown",
   "metadata": {},
   "source": [
    "<div class=\"alert alert-success\">\n",
    "<strong>Comentário do revisor v2</strong>\n",
    "\n",
    "Valeu pelo ajuste!\n",
    "</div>\n",
    "\n",
    "\n",
    "_______________"
   ]
  },
  {
   "cell_type": "markdown",
   "metadata": {
    "id": "DAfqUxKhTMRo"
   },
   "source": [
    "Como você já deve saber, as empresas coletam e armazenam dados de uma maneira específica. A Store 1 deseja armazenar todas as informações sobre seus clientes em uma tabela.\n",
    "\n",
    "| user_id | user_name | user_age | purchase_category | spending_per_category |\n",
    "| --- | --- | --- | --- | --- |\n",
    "| '32415' | 'mike', 'reed' | 32 | 'electronics', 'sport', 'books' | 894, 213, 173 |\n",
    "| '31980' | 'kate', 'morgan' | 24 | 'clothes', 'shoes' | 439, 390 |\n",
    "\n",
    "Em termos técnicos, uma tabela é simplesmente uma lista aninhada que possui uma sublista para cada usuário.\n",
    "\n",
    "A Store 1 criou essa tabela para seus usuários. Ela está armazenada na variável `users`. Cada sublista contém o ID do usuário, nome e sobrenome, idade, categorias favoritas e o valor gasto em cada categoria."
   ]
  },
  {
   "cell_type": "markdown",
   "metadata": {
    "id": "ZAN1CrBGTMRp"
   },
   "source": [
    "# Tarefa 9\n",
    "\n",
    "Para calcular a receita da empresa, siga estas etapas:\n",
    "\n",
    "1. Use um ciclo `for` para iterar na lista `users`.\n",
    "2. Extraia a lista de gastos de cada usuário e some os valores.\n",
    "3. Atualize o valor da receita com o total de cada usuário.\n",
    "\n",
    "Isso vai fornecer a receita total da empresa, que você vai imprimir no final."
   ]
  },
  {
   "cell_type": "code",
   "execution_count": 42,
   "metadata": {
    "id": "ehCh9ub0TMRp"
   },
   "outputs": [
    {
     "name": "stdout",
     "output_type": "stream",
     "text": [
      "2109\n"
     ]
    }
   ],
   "source": [
    "users = [\n",
    "\t  # este é o começo da primeira sublista\n",
    "    ['32415', ['mike', 'reed'], 32, ['electronics', 'sport', 'books'],\n",
    "        [894, 213, 173]\n",
    "    ], # este é o fim da primeira sublista\n",
    "\n",
    "    # este é o começo da segunda sublista\n",
    "    ['31980', ['kate', 'morgan'], 24, ['clothes', 'shoes'],\n",
    "        [439, 390]\n",
    "    ] # este é o fim da segunda sublista\n",
    "]\n",
    "\n",
    "revenue = 0\n",
    "\n",
    "for user in users:\n",
    "\tspendings_list = user[-1] # extraia a lista de gastos para cada usuário e some os valores\n",
    "\ttotal_spendings = sum(spendings_list) # some os gastos em todas as categorias para obter um total para um usuário específico\n",
    "\trevenue += total_spendings # atualize a receita\n",
    "\n",
    "# não remova a instrução de impressão abaixo\n",
    "print(revenue)"
   ]
  },
  {
   "cell_type": "markdown",
   "metadata": {},
   "source": [
    "<div class=\"alert alert-success\">\n",
    "<strong>Comentário do revisor v1</strong>\n",
    "\n",
    "A questão está correta!\n",
    "\n",
    "</div>\n",
    "\n",
    "\n"
   ]
  },
  {
   "cell_type": "markdown",
   "metadata": {
    "id": "sWwO-Qa1TMRp"
   },
   "source": [
    "# Tarefa 10\n",
    "\n",
    "Use um ciclo for para percorrer a lista de usuários que fornecemos e imprima os nomes dos clientes com menos de 30 anos."
   ]
  },
  {
   "cell_type": "code",
   "execution_count": 114,
   "metadata": {
    "id": "dRl-c6NvTMRq"
   },
   "outputs": [
    {
     "name": "stdout",
     "output_type": "stream",
     "text": [
      "kate morgan\n",
      "samantha smith\n",
      "emily brown\n",
      "jose martinez\n",
      "james lee\n"
     ]
    }
   ],
   "source": [
    "users = [\n",
    "    ['32415', ['mike', 'reed'], 32, ['electronics', 'sport', 'books'],\n",
    "     [894, 213, 173]],\n",
    "    ['31980', ['kate', 'morgan'], 24, ['clothes', 'books'], [439,\n",
    "     390]],\n",
    "    ['32156', ['john', 'doe'], 37, ['electronics', 'home', 'food'],\n",
    "     [459, 120, 99]],\n",
    "    ['32761', ['samantha', 'smith'], 29, ['clothes', 'electronics',\n",
    "     'beauty'], [299, 679, 85]],\n",
    "    ['32984', ['david', 'white'], 41, ['books', 'home', 'sport'], [234,\n",
    "     329, 243]],\n",
    "    ['33001', ['emily', 'brown'], 26, ['beauty', 'home', 'food'], [213,\n",
    "     659, 79]],\n",
    "    ['33767', ['maria', 'garcia'], 33, ['clothes', 'food', 'beauty'],\n",
    "     [499, 189, 63]],\n",
    "    ['33912', ['jose', 'martinez'], 22, ['sport', 'electronics', 'home'\n",
    "     ], [259, 549, 109]],\n",
    "    ['34009', ['lisa', 'wilson'], 35, ['home', 'books', 'clothes'],\n",
    "     [329, 189, 329]],\n",
    "    ['34278', ['james', 'lee'], 28, ['beauty', 'clothes', 'electronics'\n",
    "     ], [189, 299, 579]],\n",
    "    ]\n",
    "\n",
    "for user in users: # para percorrer a lista\n",
    "    if user[2] < 30: # Condoição. Se o usuráio índice (2), tiver menos (<) que 30. \n",
    "        print(f\"{user[1][0]} {user[1][1]}\") # f-sring para formatar a string e print user para imprimir os usurios que apontei no índice."
   ]
  },
  {
   "cell_type": "markdown",
   "metadata": {},
   "source": [
    "<div class=\"alert alert-success\">\n",
    "<strong>Comentário do revisor v1</strong>\n",
    "\n",
    "A questão está correta!\n",
    "\n",
    "</div>\n",
    "\n",
    "\n"
   ]
  },
  {
   "cell_type": "markdown",
   "metadata": {
    "id": "zicEj6hhTMRq"
   },
   "source": [
    "# Tarefa 11\n",
    "\n",
    "Vamos juntar as tarefas 9 e 10 e imprimir os nomes de usuários com menos de 30 anos com gastos totais acima de 1.000 dólares."
   ]
  },
  {
   "cell_type": "code",
   "execution_count": 8,
   "metadata": {
    "id": "ubyQ0OzeTMRq"
   },
   "outputs": [
    {
     "name": "stdout",
     "output_type": "stream",
     "text": [
      "samantha smith\n",
      "james lee\n"
     ]
    }
   ],
   "source": [
    "users = [\n",
    "    ['32415', ['mike', 'reed'], 32, ['electronics', 'sport', 'books'],\n",
    "     [894, 213, 173]],\n",
    "    ['31980', ['kate', 'morgan'], 24, ['clothes', 'books'], [439,\n",
    "     390]],\n",
    "    ['32156', ['john', 'doe'], 37, ['electronics', 'home', 'food'],\n",
    "     [459, 120, 99]],\n",
    "    ['32761', ['samantha', 'smith'], 29, ['clothes', 'electronics',\n",
    "     'beauty'], [299, 679, 85]],\n",
    "    ['32984', ['david', 'white'], 41, ['books', 'home', 'sport'], [234,\n",
    "     329, 243]],\n",
    "    ['33001', ['emily', 'brown'], 26, ['beauty', 'home', 'food'], [213,\n",
    "     659, 79]],\n",
    "    ['33767', ['maria', 'garcia'], 33, ['clothes', 'food', 'beauty'],\n",
    "     [499, 189, 63]],\n",
    "    ['33912', ['jose', 'martinez'], 22, ['sport', 'electronics', 'home'\n",
    "     ], [259, 549, 109]],\n",
    "    ['34009', ['lisa', 'wilson'], 35, ['home', 'books', 'clothes'],\n",
    "     [329, 189, 329]],\n",
    "    ['34278', ['james', 'lee'], 28, ['beauty', 'clothes', 'electronics'\n",
    "     ], [189, 299, 579]],\n",
    "    ]\n",
    "\n",
    "\n",
    "for user in users:  # Percorre a lista \n",
    "    name = user[1] # Procura o nome e sobrenome\n",
    "    age = user[2] # Procura a idade\n",
    "    gastos = sum(user[4]) # Soma os gastos totais\n",
    "    \n",
    "    if age < 30 and gastos > 1000: # Calcula se a idade é menor que 30 e os gastos são maisores que 1000.\n",
    "        print(f\"{name[0]} {name[1]}\")"
   ]
  },
  {
   "cell_type": "markdown",
   "metadata": {
    "id": "kQX82mWVTMRr"
   },
   "source": [
    "# Tarefa 12\n",
    "\n",
    "Agora vamos imprimir o nome e a idade de todos os usuários que compraram roupas (clothes). Imprima o nome e a idade na mesma instrução de impressão."
   ]
  },
  {
   "cell_type": "code",
   "execution_count": 10,
   "metadata": {
    "id": "obZTnKq2TMRr"
   },
   "outputs": [
    {
     "name": "stdout",
     "output_type": "stream",
     "text": [
      "kate morgan, 24\n",
      "samantha smith, 29\n",
      "maria garcia, 33\n",
      "lisa wilson, 35\n",
      "james lee, 28\n"
     ]
    }
   ],
   "source": [
    "users = [\n",
    "    ['32415', ['mike', 'reed'], 32, ['electronics', 'sport', 'books'],\n",
    "     [894, 213, 173]],\n",
    "    ['31980', ['kate', 'morgan'], 24, ['clothes', 'books'], [439,\n",
    "     390]],\n",
    "    ['32156', ['john', 'doe'], 37, ['electronics', 'home', 'food'],\n",
    "     [459, 120, 99]],\n",
    "    ['32761', ['samantha', 'smith'], 29, ['clothes', 'electronics',\n",
    "     'beauty'], [299, 679, 85]],\n",
    "    ['32984', ['david', 'white'], 41, ['books', 'home', 'sport'], [234,\n",
    "     329, 243]],\n",
    "    ['33001', ['emily', 'brown'], 26, ['beauty', 'home', 'food'], [213,\n",
    "     659, 79]],\n",
    "    ['33767', ['maria', 'garcia'], 33, ['clothes', 'food', 'beauty'],\n",
    "     [499, 189, 63]],\n",
    "    ['33912', ['jose', 'martinez'], 22, ['sport', 'electronics', 'home'\n",
    "     ], [259, 549, 109]],\n",
    "    ['34009', ['lisa', 'wilson'], 35, ['home', 'books', 'clothes'],\n",
    "     [329, 189, 329]],\n",
    "    ['34278', ['james', 'lee'], 28, ['beauty', 'clothes', 'electronics'\n",
    "     ], [189, 299, 579]],\n",
    "    ]\n",
    "\n",
    "for user in users: # percorre a lista\n",
    "    name = user[1] # obter o nome\n",
    "    age = user[2] # obter a idade\n",
    "    lista = user[3] # lista iteresse\n",
    "    \n",
    "    if \"clothes\" in lista: # veriica se existe clothes na liste de interesse\n",
    "        print(f\"{name[0]} {name[1]}, {age}\") # Correção feita para aparecer o nome completo. "
   ]
  },
  {
   "cell_type": "markdown",
   "metadata": {
    "id": "JJaO-qysTMRs"
   },
   "source": [
    "Estou tendo dificuldade para executar o código que o revisor colocou um comentário. Quando executo, nao aparece nada, e acredito que esteja correto porque quando mudo algo no código aparece algum tipo de erro relacionado e agora no aparece nada. Estou com esse problema na questao 11 e 12."
   ]
  }
 ],
 "metadata": {
  "ExecuteTimeLog": [
   {
    "duration": 6,
    "start_time": "2024-11-13T22:45:26.700Z"
   },
   {
    "duration": 3,
    "start_time": "2024-11-13T22:46:43.468Z"
   },
   {
    "duration": 3,
    "start_time": "2024-11-13T23:03:07.140Z"
   },
   {
    "duration": 6,
    "start_time": "2024-11-13T23:12:51.981Z"
   },
   {
    "duration": 164,
    "start_time": "2024-11-13T23:13:04.369Z"
   },
   {
    "duration": 4,
    "start_time": "2024-11-13T23:13:21.280Z"
   },
   {
    "duration": 13,
    "start_time": "2024-11-13T23:18:43.215Z"
   },
   {
    "duration": 12,
    "start_time": "2024-11-13T23:19:33.208Z"
   },
   {
    "duration": 13,
    "start_time": "2024-11-13T23:23:13.070Z"
   },
   {
    "duration": 12,
    "start_time": "2024-11-13T23:23:23.979Z"
   },
   {
    "duration": 14,
    "start_time": "2024-11-13T23:23:31.472Z"
   },
   {
    "duration": 4,
    "start_time": "2024-11-13T23:23:46.557Z"
   },
   {
    "duration": 3,
    "start_time": "2024-11-13T23:25:48.520Z"
   },
   {
    "duration": 4,
    "start_time": "2024-11-13T23:25:54.202Z"
   },
   {
    "duration": 3,
    "start_time": "2024-11-13T23:27:47.738Z"
   },
   {
    "duration": 5,
    "start_time": "2024-11-13T23:30:24.525Z"
   },
   {
    "duration": 3,
    "start_time": "2024-11-13T23:30:42.771Z"
   },
   {
    "duration": 3,
    "start_time": "2024-11-13T23:32:50.338Z"
   },
   {
    "duration": 4,
    "start_time": "2024-11-13T23:37:58.616Z"
   },
   {
    "duration": 3,
    "start_time": "2024-11-13T23:45:10.706Z"
   },
   {
    "duration": 6,
    "start_time": "2024-11-14T00:03:56.178Z"
   },
   {
    "duration": 5,
    "start_time": "2024-11-14T00:04:07.154Z"
   },
   {
    "duration": 4,
    "start_time": "2024-11-14T00:04:16.448Z"
   },
   {
    "duration": 4,
    "start_time": "2024-11-14T00:04:23.251Z"
   },
   {
    "duration": 4,
    "start_time": "2024-11-14T00:04:39.068Z"
   },
   {
    "duration": 4,
    "start_time": "2024-11-14T00:04:44.437Z"
   },
   {
    "duration": 5,
    "start_time": "2024-11-14T00:04:56.687Z"
   },
   {
    "duration": 6,
    "start_time": "2024-11-14T00:05:06.445Z"
   },
   {
    "duration": 4,
    "start_time": "2024-11-14T00:05:20.616Z"
   },
   {
    "duration": 5,
    "start_time": "2024-11-14T00:05:57.545Z"
   },
   {
    "duration": 5,
    "start_time": "2024-11-14T00:06:25.887Z"
   },
   {
    "duration": 36,
    "start_time": "2024-11-14T00:07:01.706Z"
   },
   {
    "duration": 14,
    "start_time": "2024-11-14T00:07:31.567Z"
   },
   {
    "duration": 16,
    "start_time": "2024-11-14T00:07:42.145Z"
   },
   {
    "duration": 15,
    "start_time": "2024-11-14T00:08:13.951Z"
   },
   {
    "duration": 14,
    "start_time": "2024-11-14T00:08:28.271Z"
   },
   {
    "duration": 17,
    "start_time": "2024-11-14T00:12:54.040Z"
   },
   {
    "duration": 15,
    "start_time": "2024-11-14T00:13:10.554Z"
   },
   {
    "duration": 4,
    "start_time": "2024-11-14T00:13:33.318Z"
   },
   {
    "duration": 15,
    "start_time": "2024-11-14T00:15:06.103Z"
   },
   {
    "duration": 14,
    "start_time": "2024-11-14T00:15:15.293Z"
   },
   {
    "duration": 4,
    "start_time": "2024-11-14T00:15:24.106Z"
   },
   {
    "duration": 6,
    "start_time": "2024-11-14T00:18:30.372Z"
   },
   {
    "duration": 19,
    "start_time": "2024-11-14T00:18:39.744Z"
   },
   {
    "duration": 6,
    "start_time": "2024-11-14T00:18:58.477Z"
   },
   {
    "duration": 8,
    "start_time": "2024-11-14T00:28:43.352Z"
   },
   {
    "duration": 6,
    "start_time": "2024-11-14T00:29:13.013Z"
   },
   {
    "duration": 21,
    "start_time": "2024-11-14T00:29:35.115Z"
   },
   {
    "duration": 6,
    "start_time": "2024-11-14T00:29:59.457Z"
   },
   {
    "duration": 6,
    "start_time": "2024-11-14T00:30:38.787Z"
   },
   {
    "duration": 5,
    "start_time": "2024-11-14T00:30:47.014Z"
   },
   {
    "duration": 5,
    "start_time": "2024-11-14T00:30:56.389Z"
   },
   {
    "duration": 5,
    "start_time": "2024-11-14T00:33:27.786Z"
   },
   {
    "duration": 7,
    "start_time": "2024-11-14T00:33:46.169Z"
   },
   {
    "duration": 6,
    "start_time": "2024-11-14T00:34:30.866Z"
   },
   {
    "duration": 7,
    "start_time": "2024-11-14T00:34:44.644Z"
   },
   {
    "duration": 7,
    "start_time": "2024-11-14T00:34:56.126Z"
   },
   {
    "duration": 6,
    "start_time": "2024-11-14T00:35:06.334Z"
   },
   {
    "duration": 6,
    "start_time": "2024-11-14T00:35:13.701Z"
   },
   {
    "duration": 20,
    "start_time": "2024-11-14T00:35:28.536Z"
   },
   {
    "duration": 20,
    "start_time": "2024-11-14T00:35:33.976Z"
   },
   {
    "duration": 6,
    "start_time": "2024-11-14T00:35:51.080Z"
   },
   {
    "duration": 6,
    "start_time": "2024-11-14T00:36:31.495Z"
   },
   {
    "duration": 8,
    "start_time": "2024-11-14T00:37:41.238Z"
   },
   {
    "duration": 6,
    "start_time": "2024-11-14T00:38:05.720Z"
   },
   {
    "duration": 6,
    "start_time": "2024-11-14T00:38:25.208Z"
   },
   {
    "duration": 7,
    "start_time": "2024-11-14T00:38:32.285Z"
   },
   {
    "duration": 7,
    "start_time": "2024-11-14T00:38:46.826Z"
   },
   {
    "duration": 7,
    "start_time": "2024-11-14T00:38:51.938Z"
   },
   {
    "duration": 7,
    "start_time": "2024-11-14T00:39:35.443Z"
   },
   {
    "duration": 7,
    "start_time": "2024-11-14T00:39:52.716Z"
   },
   {
    "duration": 7,
    "start_time": "2024-11-14T00:40:03.906Z"
   },
   {
    "duration": 6,
    "start_time": "2024-11-14T00:40:10.248Z"
   },
   {
    "duration": 7,
    "start_time": "2024-11-14T00:41:05.533Z"
   },
   {
    "duration": 6,
    "start_time": "2024-11-14T00:41:25.304Z"
   },
   {
    "duration": 7,
    "start_time": "2024-11-14T00:41:31.079Z"
   },
   {
    "duration": 7,
    "start_time": "2024-11-14T00:41:36.532Z"
   },
   {
    "duration": 7,
    "start_time": "2024-11-14T00:43:02.680Z"
   },
   {
    "duration": 7,
    "start_time": "2024-11-14T00:43:16.410Z"
   },
   {
    "duration": 7,
    "start_time": "2024-11-14T00:44:15.455Z"
   },
   {
    "duration": 6,
    "start_time": "2024-11-14T00:48:30.341Z"
   },
   {
    "duration": 5,
    "start_time": "2024-11-14T00:48:40.608Z"
   },
   {
    "duration": 6,
    "start_time": "2024-11-14T00:51:17.577Z"
   },
   {
    "duration": 6,
    "start_time": "2024-11-14T00:51:53.652Z"
   },
   {
    "duration": 6,
    "start_time": "2024-11-14T00:52:07.730Z"
   },
   {
    "duration": 6,
    "start_time": "2024-11-14T00:52:29.194Z"
   },
   {
    "duration": 6,
    "start_time": "2024-11-14T00:52:45.477Z"
   },
   {
    "duration": 6,
    "start_time": "2024-11-14T00:52:51.522Z"
   },
   {
    "duration": 5,
    "start_time": "2024-11-14T00:53:53.186Z"
   },
   {
    "duration": 6,
    "start_time": "2024-11-14T00:54:00.544Z"
   },
   {
    "duration": 6,
    "start_time": "2024-11-14T00:54:12.713Z"
   },
   {
    "duration": 9,
    "start_time": "2024-11-14T00:54:20.507Z"
   },
   {
    "duration": 6,
    "start_time": "2024-11-14T00:54:31.768Z"
   },
   {
    "duration": 6,
    "start_time": "2024-11-14T00:54:42.677Z"
   },
   {
    "duration": 6,
    "start_time": "2024-11-14T00:54:48.442Z"
   },
   {
    "duration": 6,
    "start_time": "2024-11-14T00:54:54.165Z"
   },
   {
    "duration": 6,
    "start_time": "2024-11-14T00:55:02.873Z"
   },
   {
    "duration": 8,
    "start_time": "2024-11-14T00:56:52.402Z"
   },
   {
    "duration": 6,
    "start_time": "2024-11-14T00:57:28.910Z"
   },
   {
    "duration": 21,
    "start_time": "2024-11-14T00:57:50.508Z"
   },
   {
    "duration": 6,
    "start_time": "2024-11-14T00:58:35.315Z"
   },
   {
    "duration": 6,
    "start_time": "2024-11-14T00:59:09.887Z"
   },
   {
    "duration": 6,
    "start_time": "2024-11-14T00:59:21.369Z"
   },
   {
    "duration": 6,
    "start_time": "2024-11-14T00:59:27.848Z"
   },
   {
    "duration": 6,
    "start_time": "2024-11-14T00:59:41.196Z"
   },
   {
    "duration": 6,
    "start_time": "2024-11-14T01:00:07.184Z"
   },
   {
    "duration": 5,
    "start_time": "2024-11-14T01:03:49.658Z"
   },
   {
    "duration": 5,
    "start_time": "2024-11-14T01:14:23.433Z"
   },
   {
    "duration": 6,
    "start_time": "2024-11-14T01:14:38.164Z"
   },
   {
    "duration": 6,
    "start_time": "2024-11-14T01:14:53.243Z"
   },
   {
    "duration": 5,
    "start_time": "2024-11-14T01:14:57.819Z"
   },
   {
    "duration": 6,
    "start_time": "2024-11-14T22:59:49.488Z"
   },
   {
    "duration": 158,
    "start_time": "2024-11-14T23:01:18.116Z"
   },
   {
    "duration": 11,
    "start_time": "2024-11-14T23:01:56.636Z"
   },
   {
    "duration": 15,
    "start_time": "2024-11-14T23:02:13.483Z"
   },
   {
    "duration": 3,
    "start_time": "2024-11-14T23:03:12.570Z"
   },
   {
    "duration": 3,
    "start_time": "2024-11-14T23:09:01.667Z"
   },
   {
    "duration": 12,
    "start_time": "2024-11-14T23:11:13.977Z"
   },
   {
    "duration": 11,
    "start_time": "2024-11-14T23:12:14.281Z"
   },
   {
    "duration": 3,
    "start_time": "2024-11-14T23:15:04.309Z"
   },
   {
    "duration": 3,
    "start_time": "2024-11-14T23:25:08.220Z"
   },
   {
    "duration": 22,
    "start_time": "2024-11-14T23:26:00.020Z"
   },
   {
    "duration": 13,
    "start_time": "2024-11-14T23:26:57.439Z"
   },
   {
    "duration": 33,
    "start_time": "2024-11-14T23:27:10.704Z"
   },
   {
    "duration": 16,
    "start_time": "2024-11-14T23:28:01.442Z"
   },
   {
    "duration": 13,
    "start_time": "2024-11-14T23:28:39.818Z"
   },
   {
    "duration": 13,
    "start_time": "2024-11-14T23:29:57.514Z"
   },
   {
    "duration": 3,
    "start_time": "2024-11-14T23:31:46.712Z"
   },
   {
    "duration": 4,
    "start_time": "2024-11-14T23:37:36.319Z"
   },
   {
    "duration": 9,
    "start_time": "2024-11-14T23:40:54.624Z"
   },
   {
    "duration": 8,
    "start_time": "2024-11-14T23:43:22.791Z"
   },
   {
    "duration": 21,
    "start_time": "2024-11-14T23:43:53.345Z"
   },
   {
    "duration": 20,
    "start_time": "2024-11-14T23:45:23.066Z"
   },
   {
    "duration": 21,
    "start_time": "2024-11-14T23:48:44.801Z"
   },
   {
    "duration": 24,
    "start_time": "2024-11-14T23:50:47.840Z"
   },
   {
    "duration": 7,
    "start_time": "2024-11-14T23:51:36.462Z"
   },
   {
    "duration": 6,
    "start_time": "2024-11-14T23:51:57.940Z"
   },
   {
    "duration": 6,
    "start_time": "2024-11-14T23:52:04.919Z"
   },
   {
    "duration": 7,
    "start_time": "2024-11-14T23:52:17.410Z"
   },
   {
    "duration": 5,
    "start_time": "2024-11-14T23:52:25.123Z"
   },
   {
    "duration": 5,
    "start_time": "2024-11-14T23:52:38.782Z"
   },
   {
    "duration": 7,
    "start_time": "2024-11-14T23:53:53.159Z"
   },
   {
    "duration": 5,
    "start_time": "2024-11-14T23:54:01.846Z"
   },
   {
    "duration": 6,
    "start_time": "2024-11-14T23:54:08.868Z"
   },
   {
    "duration": 6,
    "start_time": "2024-11-14T23:54:13.964Z"
   },
   {
    "duration": 6,
    "start_time": "2024-11-14T23:54:58.999Z"
   },
   {
    "duration": 6,
    "start_time": "2024-11-14T23:55:03.034Z"
   },
   {
    "duration": 5,
    "start_time": "2024-11-14T23:55:12.869Z"
   },
   {
    "duration": 5,
    "start_time": "2024-11-14T23:55:25.240Z"
   },
   {
    "duration": 6,
    "start_time": "2024-11-14T23:58:48.457Z"
   },
   {
    "duration": 5,
    "start_time": "2024-11-15T00:02:14.363Z"
   },
   {
    "duration": 5,
    "start_time": "2024-11-15T00:05:21.638Z"
   },
   {
    "duration": 5,
    "start_time": "2024-11-15T00:05:43.661Z"
   },
   {
    "duration": 6,
    "start_time": "2024-11-15T00:05:46.250Z"
   },
   {
    "duration": 5,
    "start_time": "2024-11-15T00:07:27.486Z"
   },
   {
    "duration": 5,
    "start_time": "2024-11-15T00:21:24.908Z"
   },
   {
    "duration": 7,
    "start_time": "2024-11-15T00:21:30.956Z"
   },
   {
    "duration": 5,
    "start_time": "2024-11-15T00:25:03.833Z"
   },
   {
    "duration": 6,
    "start_time": "2024-11-15T00:25:28.012Z"
   },
   {
    "duration": 5,
    "start_time": "2024-11-15T00:29:57.761Z"
   },
   {
    "duration": 6,
    "start_time": "2024-11-15T00:30:04.699Z"
   },
   {
    "duration": 11,
    "start_time": "2024-11-18T14:15:45.238Z"
   },
   {
    "duration": 5,
    "start_time": "2024-11-18T14:15:53.142Z"
   },
   {
    "duration": 6,
    "start_time": "2024-11-18T14:15:58.025Z"
   },
   {
    "duration": 6,
    "start_time": "2024-11-18T14:17:43.691Z"
   },
   {
    "duration": 176,
    "start_time": "2024-11-18T14:23:36.284Z"
   },
   {
    "duration": 8,
    "start_time": "2024-11-18T14:25:29.665Z"
   },
   {
    "duration": 6,
    "start_time": "2024-11-18T14:25:39.197Z"
   },
   {
    "duration": 6,
    "start_time": "2024-11-18T14:30:15.116Z"
   },
   {
    "duration": 11,
    "start_time": "2024-11-19T02:27:00.894Z"
   },
   {
    "duration": 177,
    "start_time": "2024-11-19T02:27:19.817Z"
   },
   {
    "duration": 6,
    "start_time": "2024-11-19T02:27:25.056Z"
   },
   {
    "duration": 5,
    "start_time": "2024-11-19T02:27:32.894Z"
   },
   {
    "duration": 6,
    "start_time": "2024-11-19T02:27:38.867Z"
   },
   {
    "duration": 5,
    "start_time": "2024-11-19T02:27:54.956Z"
   },
   {
    "duration": 5,
    "start_time": "2024-11-19T02:28:30.651Z"
   },
   {
    "duration": 8,
    "start_time": "2024-11-19T02:28:33.020Z"
   },
   {
    "duration": 23,
    "start_time": "2024-11-19T02:30:15.594Z"
   },
   {
    "duration": 7,
    "start_time": "2024-11-19T02:30:23.251Z"
   }
  ],
  "colab": {
   "provenance": []
  },
  "kernelspec": {
   "display_name": "Python 3 (ipykernel)",
   "language": "python",
   "name": "python3"
  },
  "language_info": {
   "codemirror_mode": {
    "name": "ipython",
    "version": 3
   },
   "file_extension": ".py",
   "mimetype": "text/x-python",
   "name": "python",
   "nbconvert_exporter": "python",
   "pygments_lexer": "ipython3",
   "version": "3.9.19"
  },
  "toc": {
   "base_numbering": 1,
   "nav_menu": {},
   "number_sections": true,
   "sideBar": true,
   "skip_h1_title": true,
   "title_cell": "Table of Contents",
   "title_sidebar": "Contents",
   "toc_cell": false,
   "toc_position": {},
   "toc_section_display": true,
   "toc_window_display": false
  }
 },
 "nbformat": 4,
 "nbformat_minor": 1
}
