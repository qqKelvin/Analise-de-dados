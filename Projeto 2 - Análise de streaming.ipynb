{
 "cells": [
  {
   "cell_type": "markdown",
   "metadata": {},
   "source": [
    "<div>\n",
    "Olá, Kelvin!\n",
    "\n",
    "Meu nome é Luiz. Fico feliz em revisar seu projeto. Ao longo do texto farei algumas observações sobre melhorias no código e também farei comentários sobre suas percepções sobre o assunto. Estarei aberto a feedbacks e discussões sobre o tema.\n",
    "\n",
    "**Peço que mantenha e não altere os comentários que eu fizer por aqui para que possamos nos localizar posteriormente, ok?**\n",
    "\n",
    "Mais uma coisa, vamos utilizar um código de cores para você entender o meu feedback no seu notebook. Funciona assim:\n",
    "\n",
    "<div class=\"alert alert-block alert-success\">\n",
    "<b> Comentário do revisor: </b> <a class=\"tocSkip\"></a>\n",
    "\n",
    "Sucesso. Tudo foi feito corretamente.\n",
    "</div>\n",
    "\n",
    "<div class=\"alert alert-block alert-warning\">\n",
    "<b>Comentário do revisor: </b> <a class=\"tocSkip\"></a>\n",
    "\n",
    "Alerta não crítico, mas que pode ser corrigido para melhoria geral no seu código/análise.\n",
    "</div>\n",
    "\n",
    "<div class=\"alert alert-block alert-danger\">\n",
    "\n",
    "<b>Comentário do revisor: </b> <a class=\"tocSkip\"></a>\n",
    "    \n",
    "Erro que precisa ser arrumado, caso contrário seu projeto **não** será aceito.\n",
    "</div>\n",
    "\n",
    "Você pode interagir comigo através dessa célula:\n",
    "<div class=\"alert alert-block alert-info\">\n",
    "<b>Resposta do Aluno.</b> <a class=\"tocSkip\"></a>\n",
    "</div>"
   ]
  },
  {
   "cell_type": "markdown",
   "metadata": {},
   "source": [
    "<div class=\"alert alert-block alert-success\">\n",
    "<b> Comentário geral do revisor</b> <a class=\"tocSkip\"></a>\n",
    "\n",
    "Obrigado por enviar o seu projeto e fazer os ajustes sugeridos. Essa versão do seu trabalho ficou muito melhor! Espero que as sugestões sejam relevantes para projetos futuros.\n",
    "    \n",
    "<br>\n",
    "Te desejo uma jornada de muito sucesso e aprendizado.\n",
    "    \n",
    "<br>   \n",
    "    \n",
    "Qualquer dúvida, pode contar comigo.   \n",
    "    \n",
    "<br>  \n",
    "    \n",
    "**Até breve!**\n",
    "\n",
    "</div>"
   ]
  },
  {
   "cell_type": "markdown",
   "metadata": {
    "id": "E0vqbgi9ay0H"
   },
   "source": [
    "# Se liga na música"
   ]
  },
  {
   "cell_type": "markdown",
   "metadata": {
    "id": "fhq_eyov_Zcs"
   },
   "source": [
    "# Conteúdo <a id='back'></a>\n",
    "\n",
    "* [Introdução](#intro)\n",
    "* [Etapa 1. Visão geral dos dados](#data_review)\n",
    "    * [Conclusões](#data_review_conclusions)\n",
    "* [Etapa 2. Pré-processamento de dados](#data_preprocessing)\n",
    "    * [2.1 Estilo do cabeçalho](#header_style)\n",
    "    * [2.2 Valores ausentes](#missing_values)\n",
    "    * [2.3 Duplicados](#duplicates)\n",
    "    * [2.4 Conclusões](#data_preprocessing_conclusions)\n",
    "* [Etapa 3. Teste da hipótese](#hypothesis)\n",
    "    * [3.1 Hipótese 1: atividade dos usuários nas duas cidades](#activity)\n",
    "* [Conclusões](#end)"
   ]
  },
  {
   "cell_type": "markdown",
   "metadata": {
    "id": "VUC88oWjTJw2"
   },
   "source": [
    "## Introdução <a id='intro'></a>\n",
    "O trabalho de um analista é analisar dados para obter percepções valiosas dos dados e tomar decisões fundamentadas neles. Esse processo consiste em várias etapas, como visão geral dos dados, pré-processamento dos dados e testes de hipóteses.\n",
    "\n",
    "Sempre que fazemos uma pesquisa, precisamos formular uma hipótese que depois poderemos testar. Às vezes nós aceitamos essas hipóteses; outras vezes, nós as rejeitamos. Para fazer as escolhas certas, um negócio deve ser capaz de entender se está fazendo as suposições certas ou não.\n",
    "\n",
    "Neste projeto, você vai comparar as preferências musicais dos habitantes de Springfild e Shelbyville. Você vai estudar os dados de um serviço de streaming de música online para testar a hipótese apresentada abaixo e comparar o comportamento dos usuários dessas duas cidades.\n",
    "\n",
    "### Objetivo:\n",
    "Teste a hipótese:\n",
    "1. A atividade dos usuários é diferente dependendo do dia da semana e da cidade.\n",
    "\n",
    "\n",
    "### Etapas\n",
    "Os dados sobre o comportamento do usuário são armazenados no arquivo `/datasets/music_project_en.csv`. Não há informações sobre a qualidade dos dados, então será necessário examiná-los antes de testar a hipótese.\n",
    "\n",
    "Primeiro, você avaliará a qualidade dos dados e verá se seus problemas são significativos. Depois, durante o pré-processamento dos dados, você tentará tratar dos problemas mais críticos.\n",
    "\n",
    "O seu projeto consistirá em três etapas:\n",
    " 1. Visão geral dos dados\n",
    " 2. Pré-processamento de dados\n",
    " 3. Teste da hipótese\n",
    "\n",
    "\n",
    "\n",
    "\n",
    "\n",
    "\n"
   ]
  },
  {
   "cell_type": "markdown",
   "metadata": {
    "id": "hDt6pg-Rw-1U"
   },
   "source": [
    "[Voltar ao Índice](#back)"
   ]
  },
  {
   "cell_type": "markdown",
   "metadata": {
    "id": "Ml1hmfXC_Zcs"
   },
   "source": [
    "## Etapa 1. Visão geral dos dados <a id='data_review'></a>\n",
    "\n",
    "Abra os dados e examine-os."
   ]
  },
  {
   "cell_type": "markdown",
   "metadata": {
    "id": "57eAOGIz_Zcs"
   },
   "source": [
    "Você precisará da `pandas`, então, importe-a."
   ]
  },
  {
   "cell_type": "code",
   "execution_count": 14,
   "metadata": {
    "id": "AXN7PHPN_Zcs"
   },
   "outputs": [],
   "source": [
    "import pandas as pd  # importando pandas\n"
   ]
  },
  {
   "cell_type": "markdown",
   "metadata": {
    "id": "SG23P8tt_Zcs"
   },
   "source": [
    "Leia o arquivo `music_project_en.csv` da pasta `/datasets/` e salve-o na variável `df`:"
   ]
  },
  {
   "cell_type": "code",
   "execution_count": 15,
   "metadata": {},
   "outputs": [],
   "source": [
    "df = pd.read_csv('/datasets/music_project_en.csv') # lendo o arquivo e armazenando em df"
   ]
  },
  {
   "cell_type": "markdown",
   "metadata": {},
   "source": [
    "<div class=\"alert alert-block alert-success\">\n",
    "<b> Comentário do revisor: </b> <a class=\"tocSkip\"></a>\n",
    "\n",
    "O arquivo de dados foi carregado corretamente.\n",
    "</div>\n"
   ]
  },
  {
   "cell_type": "markdown",
   "metadata": {
    "id": "rDoOMd3uTqnZ"
   },
   "source": [
    " Imprima as primeiras 10 linhas da tabela:"
   ]
  },
  {
   "cell_type": "code",
   "execution_count": 16,
   "metadata": {
    "id": "oWTVX3gW_Zct"
   },
   "outputs": [
    {
     "name": "stdout",
     "output_type": "stream",
     "text": [
      "     userID                        Track            artist   genre  \\\n",
      "0  FFB692EC            Kamigata To Boots  The Mass Missile    rock   \n",
      "1  55204538  Delayed Because of Accident  Andreas Rönnberg    rock   \n",
      "2    20EC38            Funiculì funiculà       Mario Lanza     pop   \n",
      "3  A3DD03C9        Dragons in the Sunset        Fire + Ice    folk   \n",
      "4  E2DC1FAE                  Soul People        Space Echo   dance   \n",
      "5  842029A1                       Chains          Obladaet  rusrap   \n",
      "6  4CB90AA5                         True      Roman Messer   dance   \n",
      "7  F03E1C1F             Feeling This Way   Polina Griffith   dance   \n",
      "8  8FA1D3BE                     L’estate       Julia Dalia  ruspop   \n",
      "9  E772D5C0                    Pessimist               NaN   dance   \n",
      "\n",
      "        City        time        Day  \n",
      "0  Shelbyville  20:28:33  Wednesday  \n",
      "1  Springfield  14:07:09     Friday  \n",
      "2  Shelbyville  20:58:07  Wednesday  \n",
      "3  Shelbyville  08:37:09     Monday  \n",
      "4  Springfield  08:34:34     Monday  \n",
      "5  Shelbyville  13:09:41     Friday  \n",
      "6  Springfield  13:00:07  Wednesday  \n",
      "7  Springfield  20:47:49  Wednesday  \n",
      "8  Springfield  09:17:40     Friday  \n",
      "9  Shelbyville  21:20:49  Wednesday  \n"
     ]
    }
   ],
   "source": [
    "print(df.head(10)) # obtenha as 10 primeiras 10 linhas da tabela df\n",
    "# head para retornar as primeiras linhas"
   ]
  },
  {
   "cell_type": "markdown",
   "metadata": {},
   "source": [
    "<div class=\"alert alert-block alert-success\">\n",
    "<b> Comentário do revisor: </b> <a class=\"tocSkip\"></a>\n",
    "\n",
    "O  método `head()` foi utilizado para obter as linhas iniciais do dataframe.\n",
    "</div>\n"
   ]
  },
  {
   "cell_type": "markdown",
   "metadata": {
    "id": "EO73Kwic_Zct"
   },
   "source": [
    "Obtenha informações gerais sobre a tabela usando um comando. Você conhece o método para exibir informações gerais que precisamos obter."
   ]
  },
  {
   "cell_type": "code",
   "execution_count": 17,
   "metadata": {
    "id": "DSf2kIb-_Zct"
   },
   "outputs": [
    {
     "name": "stdout",
     "output_type": "stream",
     "text": [
      "<class 'pandas.core.frame.DataFrame'>\n",
      "RangeIndex: 65079 entries, 0 to 65078\n",
      "Data columns (total 7 columns):\n",
      " #   Column    Non-Null Count  Dtype \n",
      "---  ------    --------------  ----- \n",
      " 0     userID  65079 non-null  object\n",
      " 1   Track     63736 non-null  object\n",
      " 2   artist    57512 non-null  object\n",
      " 3   genre     63881 non-null  object\n",
      " 4     City    65079 non-null  object\n",
      " 5   time      65079 non-null  object\n",
      " 6   Day       65079 non-null  object\n",
      "dtypes: object(7)\n",
      "memory usage: 3.5+ MB\n"
     ]
    }
   ],
   "source": [
    "df.info() # obtendo informações gerais sobre os nossos dados\n"
   ]
  },
  {
   "cell_type": "markdown",
   "metadata": {},
   "source": [
    "<div class=\"alert alert-block alert-success\">\n",
    "<b> Comentário do revisor: </b> <a class=\"tocSkip\"></a>\n",
    "\n",
    "O  método `info()` foi utilizado para mostrar informações sobre o conjunto de dados.\n",
    "</div>\n"
   ]
  },
  {
   "cell_type": "markdown",
   "metadata": {
    "id": "TaQ2Iwbr_Zct"
   },
   "source": [
    "Aqui estão as nossas observações sobre a tabela. Ela contém sete colunas. Elas armazenam o mesmo tipo de dado: `object`.\n",
    "\n",
    "De acordo com a documentação:\n",
    "- `' userID'` — identificação do usuário\n",
    "- `'Track'` — título da música\n",
    "- `'artist'` — nome do artista\n",
    "- `'genre'` — gênero da música\n",
    "- `'City'` — cidade do usuário\n",
    "- `'time'` — o tempo exato que a música foi reproduzida\n",
    "- `'Day'` — dia da semana\n",
    "\n",
    "Podemos ver três problemas de estilo nos cabeçalhos da tabela:\n",
    "1. Alguns cabeçalhos são escritos em letras maiúsculas, outros estão em minúsculas.\n",
    "2. Alguns cabeçalhos contêm espaços.\n",
    "3. `Detecte o problema e o descreva aqui`.\n",
    "\n",
    "\n"
   ]
  },
  {
   "cell_type": "markdown",
   "metadata": {
    "id": "MCB6-dXG_Zct"
   },
   "source": [
    "### Escreva suas observações. Aqui estão algumas perguntas que podem ajudar: <a id='data_review_conclusions'></a>\n",
    "\n",
    "`1.   Que tipo de dados temos nas linhas? E como podemos entender as colunas?` Nas linhas, temos dados armazenados como object indicando que cada coluna contém texto. \n",
    "\n",
    "`2.   Esses dados são suficientes para responder à nossa hipótese ou precisamos de mais dados?`Esses dados são o suficiente para realizar a analise, visando que minha hípose é para comparar o comportamento dos usuários na plataforma.\n",
    "\n",
    "`3.   Você notou algum problema nos dados, como valores ausentes, duplicados ou tipos de dados errados` Sim, existem dados duplicados e ausentes. Para encontrar valores ausentes, vou usar a função df.snull().sum() e para encontrar valores duplicados, vou usar df.duplicated().sum(). "
   ]
  },
  {
   "cell_type": "markdown",
   "metadata": {},
   "source": [
    "<div class=\"alert alert-block alert-success\">\n",
    "<b> Comentário do revisor: </b> <a class=\"tocSkip\"></a>\n",
    "\n",
    "Boas observações! Lembre-se que essas características podem mudar a depender do problema em questão.\n",
    "</div>"
   ]
  },
  {
   "cell_type": "markdown",
   "metadata": {
    "id": "3eL__vcwViOi"
   },
   "source": [
    "[Voltar ao Índice](#back)"
   ]
  },
  {
   "cell_type": "markdown",
   "metadata": {
    "id": "SjYF6Ub9_Zct"
   },
   "source": [
    "## Etapa 2. Pré-processamento de dados <a id='data_preprocessing'></a>\n",
    "\n",
    "O objetivo aqui é preparar os dados para a análise.\n",
    "O primeiro passo é resolver todos os problemas com o cabeçalho. E então podemos passar para os valores ausentes e duplicados. Vamos começar.\n",
    "\n",
    "Corrija a formatação nos cabeçalhos da tabela.\n"
   ]
  },
  {
   "cell_type": "markdown",
   "metadata": {
    "id": "dIaKXr29_Zct"
   },
   "source": [
    "### Estilo do cabeçalho <a id='header_style'></a>\n",
    "Imprima os cabeçalhos da tabela (os nomes das colunas): "
   ]
  },
  {
   "cell_type": "code",
   "execution_count": 18,
   "metadata": {
    "id": "oKOTdF_Q_Zct"
   },
   "outputs": [
    {
     "name": "stdout",
     "output_type": "stream",
     "text": [
      "Index(['  userID', 'Track', 'artist', 'genre', '  City  ', 'time', 'Day'], dtype='object')\n"
     ]
    }
   ],
   "source": [
    "print(df.columns) # imprima os nomes das colunas\n",
    "# df que é variável do Dataframe e columns para retornar os nomes das colunas "
   ]
  },
  {
   "cell_type": "markdown",
   "metadata": {},
   "source": [
    "<div class=\"alert alert-block alert-success\">\n",
    "<b> Comentário do revisor: </b> <a class=\"tocSkip\"></a>\n",
    "\n",
    "Os nomes das colunas do `dataframe`  foram exibidos.\n",
    "</div>"
   ]
  },
  {
   "cell_type": "markdown",
   "metadata": {
    "id": "zj5534cv_Zct"
   },
   "source": [
    "Mude os cabeçalhos da tabela conforme as boas práticas de estilo:\n",
    "* Todos os caracteres precisam estar com letras minúsculas\n",
    "* Exclua espaços\n",
    "* Se o nome tiver várias palavras, use snake_case"
   ]
  },
  {
   "cell_type": "markdown",
   "metadata": {
    "id": "Xu0zkfe5zNJe"
   },
   "source": [
    "Anteriormente, você aprendeu sobre uma maneira automatizada de renomear colunas. Vamos usá-la agora. Use o ciclo for para percorrer os nomes das colunas e transformar todos os caracteres em letras minúsculas. Após fazer isso, imprima os cabeçalhos da tabela novamente:"
   ]
  },
  {
   "cell_type": "code",
   "execution_count": 19,
   "metadata": {
    "id": "6I_RwwMhzM4e"
   },
   "outputs": [
    {
     "name": "stdout",
     "output_type": "stream",
     "text": [
      "Index(['  userid', 'track', 'artist', 'genre', '  city  ', 'time', 'day'], dtype='object')\n"
     ]
    }
   ],
   "source": [
    "df.columns = [col.lower() for col in df.columns] # Percorrendo os cabeçalhos e convertendo tudo em minúsculos\n",
    "print(df.columns)\n",
    "# for para percorrer os nomes das colunas em df e usei o metódo col para criar uma nova lista e chamei o lower para transforma os caracteres em minusculos\n"
   ]
  },
  {
   "cell_type": "markdown",
   "metadata": {},
   "source": [
    "<div class=\"alert alert-block alert-success\">\n",
    "<b> Comentário do revisor: </b> <a class=\"tocSkip\"></a>\n",
    "\n",
    "Os nomes das colunas foram convertidos para `lowercase` de forma automatizada com loops\n",
    "</div>\n"
   ]
  },
  {
   "cell_type": "markdown",
   "metadata": {
    "id": "pweIRxjSzPYW"
   },
   "source": [
    "Agora, usando a mesma abordagem, exclua os espaços no início e no final de cada nome de coluna e imprima os nomes das colunas novamente:"
   ]
  },
  {
   "cell_type": "code",
   "execution_count": 20,
   "metadata": {
    "id": "vVQXbFyJzSYl"
   },
   "outputs": [
    {
     "name": "stdout",
     "output_type": "stream",
     "text": [
      "Index(['userid', 'track', 'artist', 'genre', 'city', 'time', 'day'], dtype='object')\n"
     ]
    }
   ],
   "source": [
    "df.columns = [col.strip() for col in df.columns]\n",
    "print(df.columns) # Percorrendo os cabeçalhos e removendo os espaços\n",
    "# Usando a mesma abordagem da ultimei tarefa, usei for para percorrer os nomes das colunas em df e usei o metódo col para criar uma nova lista e chamei o trpi para remover espaços indesejados. "
   ]
  },
  {
   "cell_type": "markdown",
   "metadata": {},
   "source": [
    "<div class=\"alert alert-block alert-success\">\n",
    "<b> Comentário do revisor: </b> <a class=\"tocSkip\"></a>\n",
    "\n",
    "O método `strip()` foi utilizado para remover espaços em branco da string.\n",
    "</div>\n"
   ]
  },
  {
   "cell_type": "markdown",
   "metadata": {
    "id": "yCb8MW1JzURd"
   },
   "source": [
    "Precisamos aplicar a regra de sublinhado no lugar de espaço à coluna `userid`. Deveria ser `user_id`. Renomeie essa coluna e imprima os nomes de todas as colunas quando terminar."
   ]
  },
  {
   "cell_type": "code",
   "execution_count": 21,
   "metadata": {
    "id": "ISlFqs5y_Zct"
   },
   "outputs": [
    {
     "name": "stdout",
     "output_type": "stream",
     "text": [
      "Index(['user_id', 'track', 'artist', 'genre', 'city', 'time', 'day'], dtype='object')\n"
     ]
    }
   ],
   "source": [
    "df.rename(columns={'userid': 'user_id'}, inplace=True) # inplace=True para fazer a alteração direto no DataFrame.\n",
    "print(df.columns)"
   ]
  },
  {
   "cell_type": "markdown",
   "metadata": {},
   "source": [
    "<div class=\"alert alert-block alert-success\">\n",
    "<b> Comentário do revisor: </b> <a class=\"tocSkip\"></a>\n",
    "\n",
    "Os nomes das colunas foram substituídos pelo padrão `snake case` (underline como separador). Sugestão: pense em com você pode fazer essa operação de forma automatizada para qualquer número de colunas.\n",
    "</div>"
   ]
  },
  {
   "cell_type": "markdown",
   "metadata": {
    "id": "1dqbh00J_Zct"
   },
   "source": [
    "Verifique o resultado. Imprima os cabeçalhos novamente:"
   ]
  },
  {
   "cell_type": "code",
   "execution_count": 22,
   "metadata": {
    "id": "d4NOAmTW_Zct"
   },
   "outputs": [
    {
     "name": "stdout",
     "output_type": "stream",
     "text": [
      "Index(['user_id', 'track', 'artist', 'genre', 'city', 'time', 'day'], dtype='object')\n"
     ]
    }
   ],
   "source": [
    " print(df.columns) # verificando o resultado: a lista de cabeçalhos "
   ]
  },
  {
   "cell_type": "markdown",
   "metadata": {
    "id": "xYJk6ksJVpOl"
   },
   "source": [
    "[Voltar ao Índice](#back)"
   ]
  },
  {
   "cell_type": "markdown",
   "metadata": {
    "id": "5ISfbcfY_Zct"
   },
   "source": [
    "### Valores Ausentes <a id='missing_values'></a>\n",
    " Primeiro, encontre a quantidade de valores ausentes na tabela. Você precisa usar dois métodos em sequência para obter o número de valores ausentes."
   ]
  },
  {
   "cell_type": "code",
   "execution_count": 23,
   "metadata": {
    "id": "RskX29qr_Zct"
   },
   "outputs": [
    {
     "name": "stdout",
     "output_type": "stream",
     "text": [
      "user_id       0\n",
      "track      1343\n",
      "artist     7567\n",
      "genre      1198\n",
      "city          0\n",
      "time          0\n",
      "day           0\n",
      "dtype: int64\n"
     ]
    }
   ],
   "source": [
    "valores_ausentes = df.isna().sum() # Armazena em uma variável \"valores_ausentes\" a linha que calcula .sum() os valores ausentes .snull() em cada coluna\n",
    "print(valores_ausentes) # calculando o número de valores ausentes\n"
   ]
  },
  {
   "cell_type": "markdown",
   "metadata": {},
   "source": [
    "<div class=\"alert alert-block alert-success\">\n",
    "<b> Comentário do revisor: </b> <a class=\"tocSkip\"></a>\n",
    "\n",
    "Os métodos `isna()` e `sum()` foram utilizados para agregar o número de valores ausentes por coluna do dataframe.\n",
    "</div>"
   ]
  },
  {
   "cell_type": "markdown",
   "metadata": {
    "id": "qubhgnlO_Zct"
   },
   "source": [
    "Nem todos os valores ausentes afetam a pesquisa. Por exemplo, os valores ausentes em `track` e `artist` não são críticos. Você pode simplesmente substituí-los por valores padrão, como a string `'unknown'`.\n",
    "\n",
    "Mas valores ausentes em `'genre'` podem afetar a comparação de preferências musicais de Springfield e Shelbyville. Na vida real, seria útil descobrir as razões pelas quais os dados estão ausentes e tentar corrigi-los. Mas nós não temos essa possibilidade neste projeto. Então, você terá que:\n",
    "* Preencha esses valores ausentes com um valor padrão\n",
    "* Avalie em que medida os valores ausentes podem afetar sua análise"
   ]
  },
  {
   "cell_type": "markdown",
   "metadata": {
    "id": "fSv2laPA_Zct"
   },
   "source": [
    "Substitua os valores ausentes nas colunas `'track'`, `'artist'` e `'genre'` pela string `'unknown'`. Como mostramos nas lições anteriores, a melhor maneira de fazer isso é criar uma lista para armazenar os nomes das colunas nas quais precisamos fazer a substituição. Em seguida, use essa lista e percorra as colunas nas quais a substituição seja necessária e faça a substituição."
   ]
  },
  {
   "cell_type": "code",
   "execution_count": 24,
   "metadata": {
    "id": "KplB5qWs_Zct"
   },
   "outputs": [],
   "source": [
    "columns_replace = ['track', 'artist', 'genre'] # Lista que armazena as colunas que que precisa fazer substituição \n",
    "\n",
    "for column in columns_replace: # Percorre cada coluna \n",
    "        df[column].fillna('unknown', inplace =True) # Substitui os valores ausentes nas calunas para unknown (uma string).\n",
    "        # percorrendo os cabeçalhos e substituindo valores ausentes por 'unknown'"
   ]
  },
  {
   "cell_type": "markdown",
   "metadata": {},
   "source": [
    "<div class=\"alert alert-block alert-success\">\n",
    "<b> Comentário do revisor: </b> <a class=\"tocSkip\"></a>\n",
    "\n",
    "Os valores ausentes dos atributos `track`, `artist` e `genre` foram substituídos pelo valor \"unknown\" usando loop.\n",
    "</div>"
   ]
  },
  {
   "cell_type": "markdown",
   "metadata": {
    "id": "Ilsm-MZo_Zct"
   },
   "source": [
    "Agora verifique o resultado para ter certeza de que o conjunto de dados não contenha valores ausentes após a substituição. Para fazer isso, conte os valores ausentes novamente."
   ]
  },
  {
   "cell_type": "code",
   "execution_count": 25,
   "metadata": {
    "id": "Tq4nYRX4_Zct"
   },
   "outputs": [
    {
     "name": "stdout",
     "output_type": "stream",
     "text": [
      "user_id    0\n",
      "track      0\n",
      "artist     0\n",
      "genre      0\n",
      "city       0\n",
      "time       0\n",
      "day        0\n",
      "dtype: int64\n"
     ]
    }
   ],
   "source": [
    "print(df.isnull().sum())# contando os valores ausentes\n"
   ]
  },
  {
   "cell_type": "markdown",
   "metadata": {},
   "source": [
    "<div class=\"alert alert-block alert-success\">\n",
    "<b> Comentário do revisor: </b> <a class=\"tocSkip\"></a>\n",
    "\n",
    "A quantidade de valores ausentes após o tratamento dos dados foi verificada.\n",
    "</div>"
   ]
  },
  {
   "cell_type": "markdown",
   "metadata": {
    "id": "74ZIBmq9VrsK"
   },
   "source": [
    "[Voltar ao Índice](#back)"
   ]
  },
  {
   "cell_type": "markdown",
   "metadata": {
    "id": "BWKRtBJ3_Zct"
   },
   "source": [
    "### Duplicados <a id='duplicates'></a>\n",
    "Encontre o número de duplicados explícitos na tabela. Lembre-se de que você precisa aplicar dois métodos em sequência para obter o número de duplicados explícitos."
   ]
  },
  {
   "cell_type": "code",
   "execution_count": 26,
   "metadata": {
    "id": "36eES_S0_Zct"
   },
   "outputs": [
    {
     "name": "stdout",
     "output_type": "stream",
     "text": [
      "3826\n"
     ]
    }
   ],
   "source": [
    "print(df.duplicated().sum()) # contando duplicados explícitos\n",
    "# soma os valores duplicados."
   ]
  },
  {
   "cell_type": "markdown",
   "metadata": {
    "id": "Ot25h6XR_Zct"
   },
   "source": [
    "Agora descarte todos os duplicados. Para fazer isso, chame o método que faz exatamente isso."
   ]
  },
  {
   "cell_type": "code",
   "execution_count": 27,
   "metadata": {
    "id": "exFHq6tt_Zct"
   },
   "outputs": [],
   "source": [
    "df = df.drop_duplicates().reset_index(drop=True) # drop.duplicates remove todas os duplicados e o reset garante que o índice antigo seja descartado e mantém o novo . \n",
    "# removendo duplicados explícitos\n"
   ]
  },
  {
   "cell_type": "markdown",
   "metadata": {
    "id": "Im2YwBEG_Zct"
   },
   "source": [
    "Agora vamos verificar se descartamos todos os duplicados. Conte duplicados explícitos mais uma vez para ter certeza de que você removeu todos eles:"
   ]
  },
  {
   "cell_type": "code",
   "execution_count": 28,
   "metadata": {
    "id": "-8PuNWQ0_Zct"
   },
   "outputs": [
    {
     "name": "stdout",
     "output_type": "stream",
     "text": [
      "0\n"
     ]
    }
   ],
   "source": [
    "print(df.duplicated().sum())# verificando duplicados novamente\n",
    "\n"
   ]
  },
  {
   "cell_type": "markdown",
   "metadata": {},
   "source": [
    "<div class=\"alert alert-block alert-success\">\n",
    "<b> Comentário do revisor: </b> <a class=\"tocSkip\"></a>\n",
    "\n",
    "Os métodos `duplicated()`, `sum()` and `drop_duplicates()` foram utilizados para encontrar o número de valores duplicados e, posteriormente, removidos do conjunto de dados.\n",
    "</div>"
   ]
  },
  {
   "cell_type": "markdown",
   "metadata": {
    "id": "QlFBsxAr_Zct"
   },
   "source": [
    "Agora queremos nos livrar dos duplicados implícitos na coluna `genre`. Por exemplo, o nome de um gênero pode ser escrito de maneiras diferentes. Alguns erros afetarão também o resultado."
   ]
  },
  {
   "cell_type": "markdown",
   "metadata": {
    "id": "eSjWwsOh_Zct"
   },
   "source": [
    "Para fazer isso, vamos começar imprimindo uma lista de nomes de gênero únicos, ordenados em ordem alfabética: Para fazer isso:\n",
    "* Extraia a coluna `genre` do DataFrame\n",
    "* Chame o método que retornará todos os valores únicos na coluna extraída\n"
   ]
  },
  {
   "cell_type": "code",
   "execution_count": 48,
   "metadata": {
    "id": "JIUcqzZN_Zct"
   },
   "outputs": [
    {
     "name": "stdout",
     "output_type": "stream",
     "text": [
      "['rock' 'pop' 'folk' 'dance' 'rusrap' 'ruspop' 'world' 'electronic'\n",
      " 'unknown' 'alternative' 'children' 'rnb' 'hiphop' 'jazz' 'postrock'\n",
      " 'latin' 'classical' 'metal' 'reggae' 'triphop' 'blues' 'instrumental'\n",
      " 'rusrock' 'dnb' 'türk' 'post' 'country' 'psychedelic' 'conjazz' 'indie'\n",
      " 'posthardcore' 'local' 'avantgarde' 'punk' 'videogame' 'techno' 'house'\n",
      " 'christmas' 'melodic' 'caucasian' 'reggaeton' 'soundtrack' 'singer' 'ska'\n",
      " 'salsa' 'ambient' 'film' 'western' 'rap' 'beats' \"hard'n'heavy\"\n",
      " 'progmetal' 'minimal' 'tropical' 'contemporary' 'new' 'soul' 'holiday'\n",
      " 'german' 'jpop' 'spiritual' 'urban' 'gospel' 'nujazz' 'folkmetal'\n",
      " 'trance' 'miscellaneous' 'anime' 'hardcore' 'progressive' 'korean'\n",
      " 'numetal' 'vocal' 'estrada' 'tango' 'loungeelectronic' 'classicmetal'\n",
      " 'dubstep' 'club' 'deep' 'southern' 'black' 'folkrock' 'fitness' 'french'\n",
      " 'disco' 'religious' 'drum' 'extrememetal' 'türkçe' 'experimental' 'easy'\n",
      " 'metalcore' 'modern' 'argentinetango' 'old' 'swing' 'breaks' 'eurofolk'\n",
      " 'stonerrock' 'industrial' 'funk' 'middle' 'variété' 'other' 'adult'\n",
      " 'christian' 'thrash' 'gothic' 'international' 'muslim' 'relax' 'schlager'\n",
      " 'caribbean' 'nu' 'breakbeat' 'comedy' 'chill' 'newage' 'specialty'\n",
      " 'uzbek' 'k-pop' 'balkan' 'chinese' 'meditative' 'dub' 'power' 'death'\n",
      " 'grime' 'arabesk' 'romance' 'flamenco' 'leftfield' 'european' 'tech'\n",
      " 'newwave' 'dancehall' 'mpb' 'piano' 'top' 'bigroom' 'opera' 'celtic'\n",
      " 'tradjazz' 'acoustic' 'epicmetal' 'historisch' 'downbeat' 'downtempo'\n",
      " 'africa' 'audiobook' 'jewish' 'sängerportrait' 'deutschrock' 'eastern'\n",
      " 'action' 'future' 'electropop' 'folklore' 'bollywood' 'marschmusik' 'rnr'\n",
      " 'karaoke' 'indian' 'rancheras' 'afrikaans' 'rhythm' 'sound' 'deutschspr'\n",
      " 'trip' 'lovers' 'choral' 'dancepop' 'retro' 'smooth' 'mexican'\n",
      " 'brazilian' 'ïîï' 'mood' 'surf' 'gangsta' 'inspirational' 'idm' 'ethnic'\n",
      " 'bluegrass' 'broadway' 'animated' 'americana' 'karadeniz' 'rockabilly'\n",
      " 'colombian' 'self' 'sertanejo' 'japanese' 'canzone' 'lounge' 'sport'\n",
      " 'ragga' 'traditional' 'gitarre' 'frankreich' 'emo' 'laiko' 'cantopop'\n",
      " 'glitch' 'documentary' 'oceania' 'popeurodance' 'dark' 'vi' 'grunge'\n",
      " 'hardstyle' 'samba' 'garage' 'art' 'folktronica' 'entehno'\n",
      " 'mediterranean' 'chamber' 'cuban' 'taraftar' 'gypsy' 'hardtechno'\n",
      " 'shoegazing' 'bossa' 'latino' 'worldbeat' 'malaysian' 'baile' 'ghazal'\n",
      " 'arabic' 'popelectronic' 'acid' 'kayokyoku' 'neoklassik' 'tribal'\n",
      " 'tanzorchester' 'native' 'independent' 'cantautori' 'handsup' 'punjabi'\n",
      " 'synthpop' 'rave' 'französisch' 'quebecois' 'speech' 'soulful' 'jam'\n",
      " 'ram' 'horror' 'orchestral' 'neue' 'roots' 'slow' 'jungle' 'indipop'\n",
      " 'axé' 'fado' 'showtunes' 'arena' 'irish' 'mandopop' 'forró' 'dirty'\n",
      " 'regional']\n"
     ]
    }
   ],
   "source": [
    "print(df['genre'].unique())# método para extrair valores unicos. \n",
    "#visualizando nomes de gêneros únicos\n"
   ]
  },
  {
   "cell_type": "markdown",
   "metadata": {},
   "source": [
    "<div class=\"alert alert-block alert-success\">\n",
    "<b> Comentário do revisor: </b> <a class=\"tocSkip\"></a>\n",
    "\n",
    "O método `unique()` foi utilizado. Dica: você pode usar o método `nunique()` para contar a quantidade de valores distintos.\n",
    "</div>"
   ]
  },
  {
   "cell_type": "markdown",
   "metadata": {
    "id": "qej-Qmuo_Zct"
   },
   "source": [
    "Olhe a lista e encontre duplicados implícitos do gênero `hiphop`. Esses podem ser nomes escritos incorretamente, ou nomes alternativos para o mesmo gênero.\n",
    "\n",
    "Você verá os seguintes duplicados implícitos:\n",
    "* `hip`\n",
    "* `hop`\n",
    "* `hip-hop`\n",
    "\n",
    "Para se livrar deles, crie uma função `replace_wrong_genres()` com dois parâmetros:\n",
    "* `wrong_genres=` — essa é uma lista que contém todos os valores que você precisa substituir\n",
    "* `correct_genre=` — essa é uma string que você vai usar para a substituição\n",
    "\n",
    "Como resultado, a função deve corrigir os nomes na coluna `'genre'` da tabela `df`, isto é, substituindo cada valor da lista `wrong_genres` por valores de `correct_genre`.\n",
    "\n",
    "Dentro do corpo da função, use um ciclo `'for'` para percorrer a lista de gêneros errados, extrair a coluna `'genre'` e aplicar o método `replace` para fazer as correções."
   ]
  },
  {
   "cell_type": "code",
   "execution_count": 49,
   "metadata": {
    "id": "ErNDkmns_Zct"
   },
   "outputs": [],
   "source": [
    "def replace_wrong_genres(df, columns, wrong_genres, correct_genres): # Define uma função com dois parâmetros.\n",
    "    for wrong_genre in wrong_genres: # loop que percorre a linsta mencionada\n",
    "        df[column] = df[column].replace(wrong_genres, correct_genres) # Seleciona a coluna e substitui as diferenças\n",
    "        return df"
   ]
  },
  {
   "cell_type": "code",
   "execution_count": 50,
   "metadata": {
    "id": "ErNDkmns_Zct"
   },
   "outputs": [
    {
     "name": "stdout",
     "output_type": "stream",
     "text": [
      "['rock' 'pop' 'folk' 'dance' 'rusrap' 'ruspop' 'world' 'electronic'\n",
      " 'unknown' 'alternative' 'children' 'rnb' 'hiphop' 'jazz' 'postrock'\n",
      " 'latin' 'classical' 'metal' 'reggae' 'triphop' 'blues' 'instrumental'\n",
      " 'rusrock' 'dnb' 'türk' 'post' 'country' 'psychedelic' 'conjazz' 'indie'\n",
      " 'posthardcore' 'local' 'avantgarde' 'punk' 'videogame' 'techno' 'house'\n",
      " 'christmas' 'melodic' 'caucasian' 'reggaeton' 'soundtrack' 'singer' 'ska'\n",
      " 'salsa' 'ambient' 'film' 'western' 'rap' 'beats' \"hard'n'heavy\"\n",
      " 'progmetal' 'minimal' 'tropical' 'contemporary' 'new' 'soul' 'holiday'\n",
      " 'german' 'jpop' 'spiritual' 'urban' 'gospel' 'nujazz' 'folkmetal'\n",
      " 'trance' 'miscellaneous' 'anime' 'hardcore' 'progressive' 'korean'\n",
      " 'numetal' 'vocal' 'estrada' 'tango' 'loungeelectronic' 'classicmetal'\n",
      " 'dubstep' 'club' 'deep' 'southern' 'black' 'folkrock' 'fitness' 'french'\n",
      " 'disco' 'religious' 'drum' 'extrememetal' 'türkçe' 'experimental' 'easy'\n",
      " 'metalcore' 'modern' 'argentinetango' 'old' 'swing' 'breaks' 'eurofolk'\n",
      " 'stonerrock' 'industrial' 'funk' 'middle' 'variété' 'other' 'adult'\n",
      " 'christian' 'thrash' 'gothic' 'international' 'muslim' 'relax' 'schlager'\n",
      " 'caribbean' 'nu' 'breakbeat' 'comedy' 'chill' 'newage' 'specialty'\n",
      " 'uzbek' 'k-pop' 'balkan' 'chinese' 'meditative' 'dub' 'power' 'death'\n",
      " 'grime' 'arabesk' 'romance' 'flamenco' 'leftfield' 'european' 'tech'\n",
      " 'newwave' 'dancehall' 'mpb' 'piano' 'top' 'bigroom' 'opera' 'celtic'\n",
      " 'tradjazz' 'acoustic' 'epicmetal' 'historisch' 'downbeat' 'downtempo'\n",
      " 'africa' 'audiobook' 'jewish' 'sängerportrait' 'deutschrock' 'eastern'\n",
      " 'action' 'future' 'electropop' 'folklore' 'bollywood' 'marschmusik' 'rnr'\n",
      " 'karaoke' 'indian' 'rancheras' 'afrikaans' 'rhythm' 'sound' 'deutschspr'\n",
      " 'trip' 'lovers' 'choral' 'dancepop' 'retro' 'smooth' 'mexican'\n",
      " 'brazilian' 'ïîï' 'mood' 'surf' 'gangsta' 'inspirational' 'idm' 'ethnic'\n",
      " 'bluegrass' 'broadway' 'animated' 'americana' 'karadeniz' 'rockabilly'\n",
      " 'colombian' 'self' 'sertanejo' 'japanese' 'canzone' 'lounge' 'sport'\n",
      " 'ragga' 'traditional' 'gitarre' 'frankreich' 'emo' 'laiko' 'cantopop'\n",
      " 'glitch' 'documentary' 'oceania' 'popeurodance' 'dark' 'vi' 'grunge'\n",
      " 'hardstyle' 'samba' 'garage' 'art' 'folktronica' 'entehno'\n",
      " 'mediterranean' 'chamber' 'cuban' 'taraftar' 'gypsy' 'hardtechno'\n",
      " 'shoegazing' 'bossa' 'latino' 'worldbeat' 'malaysian' 'baile' 'ghazal'\n",
      " 'arabic' 'popelectronic' 'acid' 'kayokyoku' 'neoklassik' 'tribal'\n",
      " 'tanzorchester' 'native' 'independent' 'cantautori' 'handsup' 'punjabi'\n",
      " 'synthpop' 'rave' 'französisch' 'quebecois' 'speech' 'soulful' 'jam'\n",
      " 'ram' 'horror' 'orchestral' 'neue' 'roots' 'slow' 'jungle' 'indipop'\n",
      " 'axé' 'fado' 'showtunes' 'arena' 'irish' 'mandopop' 'forró' 'dirty'\n",
      " 'regional']\n"
     ]
    }
   ],
   "source": [
    "duplicates = ['hip', 'hop', 'hip-hop'] # Valores para substituir.\n",
    "genre = 'hiphop' # Variável com o genero correto\n",
    "df = replace_wrong_genres(df, 'genre', duplicates, genre)\n",
    "print(df['genre'].unique())# função para substituir duplicados implícitos\n"
   ]
  },
  {
   "cell_type": "markdown",
   "metadata": {
    "id": "aDoBJxbA_Zct"
   },
   "source": [
    "Agora, chame a função `replace_wrong_genres()` e passe argumentos apropriados para que ela limpe duplicados implícitos (`hip`, `hop` e `hip-hop`) substituindo-os por `hiphop`:"
   ]
  },
  {
   "cell_type": "code",
   "execution_count": 55,
   "metadata": {
    "id": "YN5i2hpmSo09"
   },
   "outputs": [
    {
     "name": "stdout",
     "output_type": "stream",
     "text": [
      "['rock' 'pop' 'folk' 'dance' 'rusrap' 'ruspop' 'world' 'electronic'\n",
      " 'unknown' 'alternative' 'children' 'rnb' 'hiphop' 'jazz' 'postrock'\n",
      " 'latin' 'classical' 'metal' 'reggae' 'triphop' 'blues' 'instrumental'\n",
      " 'rusrock' 'dnb' 'türk' 'post' 'country' 'psychedelic' 'conjazz' 'indie'\n",
      " 'posthardcore' 'local' 'avantgarde' 'punk' 'videogame' 'techno' 'house'\n",
      " 'christmas' 'melodic' 'caucasian' 'reggaeton' 'soundtrack' 'singer' 'ska'\n",
      " 'salsa' 'ambient' 'film' 'western' 'rap' 'beats' \"hard'n'heavy\"\n",
      " 'progmetal' 'minimal' 'tropical' 'contemporary' 'new' 'soul' 'holiday'\n",
      " 'german' 'jpop' 'spiritual' 'urban' 'gospel' 'nujazz' 'folkmetal'\n",
      " 'trance' 'miscellaneous' 'anime' 'hardcore' 'progressive' 'korean'\n",
      " 'numetal' 'vocal' 'estrada' 'tango' 'loungeelectronic' 'classicmetal'\n",
      " 'dubstep' 'club' 'deep' 'southern' 'black' 'folkrock' 'fitness' 'french'\n",
      " 'disco' 'religious' 'drum' 'extrememetal' 'türkçe' 'experimental' 'easy'\n",
      " 'metalcore' 'modern' 'argentinetango' 'old' 'swing' 'breaks' 'eurofolk'\n",
      " 'stonerrock' 'industrial' 'funk' 'middle' 'variété' 'other' 'adult'\n",
      " 'christian' 'thrash' 'gothic' 'international' 'muslim' 'relax' 'schlager'\n",
      " 'caribbean' 'nu' 'breakbeat' 'comedy' 'chill' 'newage' 'specialty'\n",
      " 'uzbek' 'k-pop' 'balkan' 'chinese' 'meditative' 'dub' 'power' 'death'\n",
      " 'grime' 'arabesk' 'romance' 'flamenco' 'leftfield' 'european' 'tech'\n",
      " 'newwave' 'dancehall' 'mpb' 'piano' 'top' 'bigroom' 'opera' 'celtic'\n",
      " 'tradjazz' 'acoustic' 'epicmetal' 'historisch' 'downbeat' 'downtempo'\n",
      " 'africa' 'audiobook' 'jewish' 'sängerportrait' 'deutschrock' 'eastern'\n",
      " 'action' 'future' 'electropop' 'folklore' 'bollywood' 'marschmusik' 'rnr'\n",
      " 'karaoke' 'indian' 'rancheras' 'afrikaans' 'rhythm' 'sound' 'deutschspr'\n",
      " 'trip' 'lovers' 'choral' 'dancepop' 'retro' 'smooth' 'mexican'\n",
      " 'brazilian' 'ïîï' 'mood' 'surf' 'gangsta' 'inspirational' 'idm' 'ethnic'\n",
      " 'bluegrass' 'broadway' 'animated' 'americana' 'karadeniz' 'rockabilly'\n",
      " 'colombian' 'self' 'sertanejo' 'japanese' 'canzone' 'lounge' 'sport'\n",
      " 'ragga' 'traditional' 'gitarre' 'frankreich' 'emo' 'laiko' 'cantopop'\n",
      " 'glitch' 'documentary' 'oceania' 'popeurodance' 'dark' 'vi' 'grunge'\n",
      " 'hardstyle' 'samba' 'garage' 'art' 'folktronica' 'entehno'\n",
      " 'mediterranean' 'chamber' 'cuban' 'taraftar' 'gypsy' 'hardtechno'\n",
      " 'shoegazing' 'bossa' 'latino' 'worldbeat' 'malaysian' 'baile' 'ghazal'\n",
      " 'arabic' 'popelectronic' 'acid' 'kayokyoku' 'neoklassik' 'tribal'\n",
      " 'tanzorchester' 'native' 'independent' 'cantautori' 'handsup' 'punjabi'\n",
      " 'synthpop' 'rave' 'französisch' 'quebecois' 'speech' 'soulful' 'jam'\n",
      " 'ram' 'horror' 'orchestral' 'neue' 'roots' 'slow' 'jungle' 'indipop'\n",
      " 'axé' 'fado' 'showtunes' 'arena' 'irish' 'mandopop' 'forró' 'dirty'\n",
      " 'regional']\n"
     ]
    }
   ],
   "source": [
    "duplicates = ['hip', 'hop', 'hip-hop'] # Chamada para função que substitui valores\n",
    "genre = 'hiphop'# removendo duplicados implícitos\n",
    "df = replace_wrong_genres(df, 'genre', duplicates, genre) # Chama a função para substituir os gêneros errados.\n",
    "print(df['genre'].unique()) # Imprimi os valores unicos da coluna genre"
   ]
  },
  {
   "cell_type": "markdown",
   "metadata": {
    "id": "zQKF16_RG15m"
   },
   "source": [
    "Certifique-se que os nomes duplicados foram removidos. Imprima a lista de valores únicos da coluna `'genre'` mais uma vez:"
   ]
  },
  {
   "cell_type": "code",
   "execution_count": 56,
   "metadata": {
    "id": "wvixALnFG15m"
   },
   "outputs": [
    {
     "name": "stdout",
     "output_type": "stream",
     "text": [
      "0        False\n",
      "1        False\n",
      "2        False\n",
      "3        False\n",
      "4        False\n",
      "         ...  \n",
      "61248    False\n",
      "61249    False\n",
      "61250    False\n",
      "61251    False\n",
      "61252    False\n",
      "Length: 61253, dtype: bool\n"
     ]
    }
   ],
   "source": [
    "print(df.duplicated())# verificando valores duplicados\n"
   ]
  },
  {
   "cell_type": "markdown",
   "metadata": {
    "id": "ALgNbvF3VtPA"
   },
   "source": [
    "[Voltar ao Índice](#back)"
   ]
  },
  {
   "cell_type": "markdown",
   "metadata": {
    "id": "jz6a9-7HQUDd"
   },
   "source": [
    "### Suas observações <a id='data_preprocessing_conclusions'></a>\n",
    "\n",
    "` Descreva brevemente o que você reparou ao analisar duplicados, bem como a abordagem que usou para eliminá-los e os resultados que alcançou.`\n",
    "\n",
    "Ao analisar duplicados, reparei que existem duplicados exlícitos e implícitos na coluna genero. Duplicados explícitos são linhas idênticas que se repetem e duplicados implícitos são valores diferentes que representam a mesma coisa. \n",
    "\n",
    "Usei alguns métodos que aprendi no curso como, duplicated() para identificar as linhas duplicadas e drop_duplicates() pra remover essas linhas.\n",
    "\n",
    "A identificação e eliminação de duplicados melhora a qualidade dos dados, eliminando redundâncias e corrigindo errs. Isso facilita futuras analises, proporcionando resultados mais precisos e confiáveis.   "
   ]
  },
  {
   "cell_type": "markdown",
   "metadata": {
    "id": "eK1es74rVujj"
   },
   "source": [
    "[Voltar ao Índice](#back)"
   ]
  },
  {
   "cell_type": "markdown",
   "metadata": {
    "id": "WttZHXH0SqKk"
   },
   "source": [
    "## Etapa 3. Teste da hipótese <a id='hypothesis'></a>"
   ]
  },
  {
   "cell_type": "markdown",
   "metadata": {
    "id": "Im936VVi_Zcu"
   },
   "source": [
    "### Hipótese: comparação do comportamento dos usuários nas duas cidades <a id='activity'></a>"
   ]
  },
  {
   "cell_type": "markdown",
   "metadata": {
    "id": "nwt_MuaL_Zcu"
   },
   "source": [
    "A hipótese afirma que existem diferenças no consumo de música pelos usuários em Springfield e em Shelbyville. Para testar a hipótese, use os dados dos três dias da semana: segunda-feira (Monday), quarta-feira (Wednesday) e sexta-feira (Friday).\n",
    "\n",
    "* Agrupe os usuários por cidade.\n",
    "* Compare o número de músicas tocadas por cada grupo na segunda, quarta e sexta.\n"
   ]
  },
  {
   "cell_type": "markdown",
   "metadata": {
    "id": "8Dw_YMmT_Zcu"
   },
   "source": [
    "Execute cada cálculo separadamente.\n",
    "\n",
    "O primeiro passo é avaliar a atividade dos usuários em cada cidade. Não se esqueça das etapas \"divisão-aplicação-combinação\" sobre as quais falamos anteriormente na lição. Agora seu objetivo é agrupar os dados por cidade, aplicar o método de contagem apropriado durante a etapa de aplicação e então encontrar o número de músicas tocadas por cada grupo, especificando a coluna para a qual você quer obter a contagem.\n",
    "\n",
    "Veja um exemplo de como o resultado final deve ser:\n",
    "`df.groupby(by='....')['column'].method()` Execute cada cálculo separadamente.\n",
    "\n",
    "Para avaliar a atividade dos usuários em cada cidade, agrupe os dados por cidade e encontre o número de músicas reproduzidas em cada grupo.\n",
    "\n"
   ]
  },
  {
   "cell_type": "code",
   "execution_count": 60,
   "metadata": {
    "scrolled": true
   },
   "outputs": [
    {
     "name": "stdout",
     "output_type": "stream",
     "text": [
      "city\n",
      "Shelbyville    18512\n",
      "Springfield    42741\n",
      "Name: track, dtype: int64\n"
     ]
    }
   ],
   "source": [
    "counts_music = df.groupby(by='city')['track'].count() # Agrupamento para contar o numero de musicas tocadas em cada cidade\n",
    "print(counts_music) # Contando as musicas tocadas em cada cidade"
   ]
  },
  {
   "cell_type": "markdown",
   "metadata": {},
   "source": [
    "Notei que Springfiel reproduziu consideravelmente mais musicas que Shelbyville."
   ]
  },
  {
   "cell_type": "markdown",
   "metadata": {},
   "source": [
    "`Comente sobre suas observações aqui`\n",
    "Com a contagem do número de muscias tocadas, podemos começar a identificar tendências. "
   ]
  },
  {
   "cell_type": "markdown",
   "metadata": {
    "id": "dzli3w8o_Zcu"
   },
   "source": [
    "Agora vamos agrupar os dados por dia da semana e encontrar a quantidade de músicas tocadas na segunda, quarta e sexta-feira. Use a mesma abordagem que antes, mas agora precisamos agrupar os dados de uma forma diferente.\n"
   ]
  },
  {
   "cell_type": "code",
   "execution_count": 64,
   "metadata": {
    "id": "uZMKjiJz_Zcu"
   },
   "outputs": [
    {
     "name": "stdout",
     "output_type": "stream",
     "text": [
      "day\n",
      "Friday       21840\n",
      "Monday       21354\n",
      "Wednesday    18059\n",
      "Name: track, dtype: int64\n"
     ]
    }
   ],
   "source": [
    "day_week = df.groupby(by='day')['track'].count()\n",
    "print(day_week)# Calculando as músicas escutadas em cada um desses três dias\n"
   ]
  },
  {
   "cell_type": "markdown",
   "metadata": {
    "id": "cC2tNrlL_Zcu"
   },
   "source": [
    "`Comente sobre suas observações aqui`\n",
    "Pela contagem eu notei que sexta-feira é o dia com mais reproduções de musicas, segunda-feira fica em segundo lugar muito proximo de sexta, e por fim, quarta-feira, o dia com menos reproduções.\n"
   ]
  },
  {
   "cell_type": "markdown",
   "metadata": {
    "id": "POzs8bGa_Zcu"
   },
   "source": [
    "Você acabou de aprender como contar entradas agrupando-as por cidade ou por dia. E agora você precisa escrever uma função que possa contar entradas simultaneamente com base em ambos os critérios.\n",
    "\n",
    "Crie a função `number_tracks()` para calcular o número de músicas tocadas em um determinado dia **e** em uma determinada cidade. A função deve aceitar dois parâmetros:\n",
    "\n",
    "- `day`: um dia da semana pelo qual precisamos filtrar os dados. Por exemplo, `'Monday'`.\n",
    "- `city`: uma cidade pela qual precisamos filtrar os dados. Por exemplo, `'Springfield'`.\n",
    "\n",
    "Dentro da função, você vai aplicar uma filtragem consecutiva com indexação lógica.\n",
    "\n",
    "Primeiro, filtre os dados por dia e então filtre a tabela resultante por cidade.\n",
    "\n",
    "Depois de filtrar os dados usando os dois critérios, conte o número de valores na coluna 'user_id' da tabela resultante. O resultado da contagem representará o número de entradas que você quer encontrar. Armazene o resultado em uma nova variável e imprima-o."
   ]
  },
  {
   "cell_type": "code",
   "execution_count": 65,
   "metadata": {
    "id": "Nz3GdQB1_Zcu"
   },
   "outputs": [],
   "source": [
    "def number_tracks(day, city):  # Declare a função number_tracks() com dois parâmetros: day= e city=.\n",
    "    filtered_day = df[df['day'] == day]  # Armazene as linhas do DataFrame em que o valor na coluna 'day' é igual ao parâmetro day=\n",
    "    filtered_city = filtered_day[filtered_day['city'] == city]  # Filtre as linhas em que o valor na coluna 'city' é igual ao parâmetro city=\n",
    "    user_count = filtered_city['user_id'].count() # Extraia a coluna 'user_id' da tabela filtrada e aplique o método count()\n",
    "    return user_count # Retorne o número dos valores da coluna 'user_id'\n",
    "# user_count = ('Wednesday', 'Springfield')"
   ]
  },
  {
   "cell_type": "markdown",
   "metadata": {
    "id": "ytf7xFrFJQ2r"
   },
   "source": [
    "Chame a função `number_tracks()` seis vezes, mudando os valores dos parâmetros, para que você possa recuperar os dados de ambas as cidades para cada um dos três dias."
   ]
  },
  {
   "cell_type": "code",
   "execution_count": 66,
   "metadata": {
    "id": "rJcRATNQ_Zcu"
   },
   "outputs": [
    {
     "name": "stdout",
     "output_type": "stream",
     "text": [
      "15740\n"
     ]
    }
   ],
   "source": [
    "count_1 = number_tracks('Monday', 'Springfield')\n",
    "print(count_1)         # a quantidade de músicas tocadas em Springfield na segunda-feira\n"
   ]
  },
  {
   "cell_type": "code",
   "execution_count": 67,
   "metadata": {
    "id": "hq_ncZ5T_Zcu"
   },
   "outputs": [
    {
     "name": "stdout",
     "output_type": "stream",
     "text": [
      "5614\n"
     ]
    }
   ],
   "source": [
    "count_1 = number_tracks('Monday', 'Shelbyville')\n",
    "print(count_1)     # a quantidade de músicas tocadas em Shelbyville na segunda-feira\n"
   ]
  },
  {
   "cell_type": "code",
   "execution_count": 68,
   "metadata": {
    "id": "_NTy2VPU_Zcu"
   },
   "outputs": [
    {
     "name": "stdout",
     "output_type": "stream",
     "text": [
      "11056\n"
     ]
    }
   ],
   "source": [
    "count_1 = number_tracks('Wednesday', 'Springfield')\n",
    "print(count_1)  # a quantidade de músicas tocadas em Springfield na quarta-feira\n"
   ]
  },
  {
   "cell_type": "code",
   "execution_count": 69,
   "metadata": {
    "id": "j2y3TAwo_Zcu"
   },
   "outputs": [
    {
     "name": "stdout",
     "output_type": "stream",
     "text": [
      "7003\n"
     ]
    }
   ],
   "source": [
    "count_1 = number_tracks('Wednesday', 'Shelbyville')\n",
    "print(count_1) # a quantidade de músicas tocadas em Shelbyville na quarta-feira\n"
   ]
  },
  {
   "cell_type": "code",
   "execution_count": 71,
   "metadata": {
    "id": "vYDw5u_K_Zcu"
   },
   "outputs": [
    {
     "name": "stdout",
     "output_type": "stream",
     "text": [
      "15945\n"
     ]
    }
   ],
   "source": [
    "count_1 = number_tracks('Friday', 'Springfield')\n",
    "print(count_1)# a quantidade de músicas tocadas em Springfield na sexta-feira\n"
   ]
  },
  {
   "cell_type": "code",
   "execution_count": 74,
   "metadata": {
    "id": "8_yzFtW3_Zcu"
   },
   "outputs": [
    {
     "name": "stdout",
     "output_type": "stream",
     "text": [
      "5895\n"
     ]
    }
   ],
   "source": [
    "count_1 = number_tracks('Friday', 'Shelbyville') # a quantidade de músicas tocadas em Shelbyville na sexta-feir\n",
    "print(count_1)"
   ]
  },
  {
   "cell_type": "markdown",
   "metadata": {
    "id": "-EgPIHYu_Zcu"
   },
   "source": [
    "**Conclusões**\n",
    "\n",
    "`Comente sobre se a terceira hipótese está correta ou deve ser rejeitada. Explique seu raciocínio.` Acredito que esta hipótese esteja correta, pois a soma das músicas tocadas em cada dia é o mesmo que o número total de reproduções."
   ]
  },
  {
   "cell_type": "markdown",
   "metadata": {
    "id": "p7nFQajCVw5B"
   },
   "source": [
    "[Voltar ao Índice](#back)"
   ]
  },
  {
   "cell_type": "markdown",
   "metadata": {
    "id": "ykKQ0N65_Zcv"
   },
   "source": [
    "# Conclusões <a id='end'></a>"
   ]
  },
  {
   "cell_type": "markdown",
   "metadata": {
    "id": "tjUwbHb3_Zcv"
   },
   "source": [
    "`Resuma suas conclusões sobre a hipótese aqui` Minha conclusão final é que a hipótese está correta, pois há mais reproduções de músicas em Springfield do que em Shelbyville."
   ]
  },
  {
   "cell_type": "markdown",
   "metadata": {
    "id": "azLHu64yOIp7"
   },
   "source": [
    "### Importante\n",
    "Em projetos de pesquisas reais, o teste estatístico de hipóteses é mais preciso e quantitativo. Observe também que conclusões sobre uma cidade inteira nem sempre podem ser tiradas a partir de dados de apenas uma fonte.\n",
    "\n",
    "Você aprenderá mais sobre testes de hipóteses no sprint sobre a análise estatística de dados."
   ]
  },
  {
   "cell_type": "markdown",
   "metadata": {
    "id": "Ju4AHDSgV1FE"
   },
   "source": [
    "[Voltar ao Índice](#back)"
   ]
  }
 ],
 "metadata": {
  "ExecuteTimeLog": [
   {
    "duration": 344,
    "start_time": "2024-11-20T16:14:10.661Z"
   },
   {
    "duration": 223,
    "start_time": "2024-11-20T16:15:20.080Z"
   },
   {
    "duration": 16,
    "start_time": "2024-11-20T16:15:29.702Z"
   },
   {
    "duration": 25,
    "start_time": "2024-11-20T16:18:40.558Z"
   },
   {
    "duration": 2,
    "start_time": "2024-11-20T16:18:53.733Z"
   },
   {
    "duration": 24,
    "start_time": "2024-11-20T16:18:58.828Z"
   },
   {
    "duration": 3,
    "start_time": "2024-11-20T16:19:04.768Z"
   },
   {
    "duration": 471,
    "start_time": "2024-11-20T16:19:26.333Z"
   },
   {
    "duration": 83,
    "start_time": "2024-11-20T16:21:09.619Z"
   },
   {
    "duration": 71,
    "start_time": "2024-11-20T16:21:22.846Z"
   },
   {
    "duration": 76,
    "start_time": "2024-11-20T16:23:18.162Z"
   },
   {
    "duration": 134,
    "start_time": "2024-11-20T16:23:37.214Z"
   },
   {
    "duration": 120,
    "start_time": "2024-11-20T16:23:43.196Z"
   },
   {
    "duration": 111,
    "start_time": "2024-11-20T16:24:14.187Z"
   },
   {
    "duration": 64,
    "start_time": "2024-11-20T16:25:29.785Z"
   },
   {
    "duration": 120,
    "start_time": "2024-11-20T16:26:30.937Z"
   },
   {
    "duration": 109,
    "start_time": "2024-11-20T16:27:37.194Z"
   },
   {
    "duration": 112,
    "start_time": "2024-11-20T16:28:13.881Z"
   },
   {
    "duration": 25,
    "start_time": "2024-11-20T16:28:22.254Z"
   },
   {
    "duration": 18,
    "start_time": "2024-11-20T16:28:32.240Z"
   },
   {
    "duration": 12,
    "start_time": "2024-11-20T16:28:40.924Z"
   },
   {
    "duration": 7,
    "start_time": "2024-11-20T16:29:35.229Z"
   },
   {
    "duration": 25,
    "start_time": "2024-11-20T16:30:41.616Z"
   },
   {
    "duration": 22,
    "start_time": "2024-11-20T16:53:02.804Z"
   },
   {
    "duration": 13,
    "start_time": "2024-11-20T16:53:12.575Z"
   },
   {
    "duration": 15,
    "start_time": "2024-11-20T16:53:18.707Z"
   },
   {
    "duration": 3,
    "start_time": "2024-11-20T16:53:55.988Z"
   },
   {
    "duration": 12,
    "start_time": "2024-11-20T17:16:26.190Z"
   },
   {
    "duration": 4,
    "start_time": "2024-11-20T17:18:12.531Z"
   },
   {
    "duration": 3,
    "start_time": "2024-11-20T17:26:30.993Z"
   },
   {
    "duration": 3,
    "start_time": "2024-11-20T17:27:36.973Z"
   },
   {
    "duration": 4,
    "start_time": "2024-11-20T17:28:10.538Z"
   },
   {
    "duration": 5,
    "start_time": "2024-11-20T17:32:40.236Z"
   },
   {
    "duration": 3,
    "start_time": "2024-11-20T17:32:47.357Z"
   },
   {
    "duration": 4,
    "start_time": "2024-11-20T17:33:05.956Z"
   },
   {
    "duration": 5,
    "start_time": "2024-11-20T17:34:04.999Z"
   },
   {
    "duration": 4,
    "start_time": "2024-11-20T17:35:47.022Z"
   },
   {
    "duration": 3,
    "start_time": "2024-11-20T17:37:09.942Z"
   },
   {
    "duration": 4,
    "start_time": "2024-11-20T17:42:02.191Z"
   },
   {
    "duration": 2,
    "start_time": "2024-11-20T17:43:06.856Z"
   },
   {
    "duration": 11,
    "start_time": "2024-11-20T17:45:47.120Z"
   },
   {
    "duration": 10,
    "start_time": "2024-11-20T17:45:58.622Z"
   },
   {
    "duration": 19,
    "start_time": "2024-11-20T17:46:56.536Z"
   },
   {
    "duration": 18,
    "start_time": "2024-11-20T17:48:32.328Z"
   },
   {
    "duration": 20,
    "start_time": "2024-11-20T17:48:36.776Z"
   },
   {
    "duration": 5,
    "start_time": "2024-11-20T18:00:06.335Z"
   },
   {
    "duration": 4,
    "start_time": "2024-11-20T18:00:49.708Z"
   },
   {
    "duration": 3,
    "start_time": "2024-11-20T18:00:59.892Z"
   },
   {
    "duration": 16,
    "start_time": "2024-11-20T18:02:16.126Z"
   },
   {
    "duration": 17,
    "start_time": "2024-11-20T18:02:35.150Z"
   },
   {
    "duration": 10,
    "start_time": "2024-11-20T18:03:02.208Z"
   },
   {
    "duration": 11,
    "start_time": "2024-11-20T18:05:58.017Z"
   },
   {
    "duration": 20,
    "start_time": "2024-11-20T18:06:16.294Z"
   },
   {
    "duration": 20,
    "start_time": "2024-11-20T18:06:21.778Z"
   },
   {
    "duration": 13,
    "start_time": "2024-11-20T18:06:37.811Z"
   },
   {
    "duration": 13,
    "start_time": "2024-11-20T18:08:27.953Z"
   },
   {
    "duration": 13,
    "start_time": "2024-11-20T18:08:49.540Z"
   },
   {
    "duration": 13,
    "start_time": "2024-11-20T18:10:50.722Z"
   },
   {
    "duration": 11,
    "start_time": "2024-11-20T18:12:27.396Z"
   },
   {
    "duration": 19,
    "start_time": "2024-11-20T18:12:50.028Z"
   },
   {
    "duration": 43,
    "start_time": "2024-11-20T18:18:05.870Z"
   },
   {
    "duration": 42,
    "start_time": "2024-11-20T18:22:13.355Z"
   },
   {
    "duration": 41,
    "start_time": "2024-11-20T18:22:36.435Z"
   },
   {
    "duration": 41,
    "start_time": "2024-11-20T18:23:24.884Z"
   },
   {
    "duration": 40,
    "start_time": "2024-11-20T18:25:40.442Z"
   },
   {
    "duration": 46,
    "start_time": "2024-11-20T18:25:46.299Z"
   },
   {
    "duration": 43,
    "start_time": "2024-11-20T18:25:48.353Z"
   },
   {
    "duration": 3,
    "start_time": "2024-11-20T18:28:51.584Z"
   },
   {
    "duration": 3,
    "start_time": "2024-11-20T18:29:03.517Z"
   },
   {
    "duration": 2,
    "start_time": "2024-11-20T18:29:12.015Z"
   },
   {
    "duration": 3,
    "start_time": "2024-11-20T18:32:35.057Z"
   },
   {
    "duration": 5,
    "start_time": "2024-11-20T18:38:09.871Z"
   },
   {
    "duration": 6,
    "start_time": "2024-11-20T18:39:34.510Z"
   },
   {
    "duration": 10,
    "start_time": "2024-11-20T18:47:03.046Z"
   },
   {
    "duration": 8,
    "start_time": "2024-11-20T18:47:08.721Z"
   },
   {
    "duration": 6,
    "start_time": "2024-11-20T18:47:16.563Z"
   },
   {
    "duration": 3,
    "start_time": "2024-11-20T18:59:39.629Z"
   },
   {
    "duration": 3,
    "start_time": "2024-11-20T18:59:44.617Z"
   },
   {
    "duration": 4,
    "start_time": "2024-11-20T18:59:49.271Z"
   },
   {
    "duration": 3,
    "start_time": "2024-11-20T19:00:16.909Z"
   },
   {
    "duration": 40,
    "start_time": "2024-11-20T19:07:50.318Z"
   },
   {
    "duration": 39,
    "start_time": "2024-11-20T19:10:26.479Z"
   },
   {
    "duration": 157,
    "start_time": "2024-11-21T00:58:22.616Z"
   },
   {
    "duration": 11,
    "start_time": "2024-11-21T00:58:29.256Z"
   },
   {
    "duration": 11,
    "start_time": "2024-11-21T00:58:40.107Z"
   },
   {
    "duration": 165,
    "start_time": "2024-11-21T01:25:03.655Z"
   },
   {
    "duration": 160,
    "start_time": "2024-11-22T01:25:09.610Z"
   },
   {
    "duration": 4,
    "start_time": "2024-11-22T01:26:13.790Z"
   },
   {
    "duration": 5,
    "start_time": "2024-11-22T01:26:52.437Z"
   },
   {
    "duration": 12,
    "start_time": "2024-11-22T01:27:02.990Z"
   },
   {
    "duration": 11,
    "start_time": "2024-11-22T01:27:33.951Z"
   },
   {
    "duration": 4,
    "start_time": "2024-11-22T01:28:17.285Z"
   },
   {
    "duration": 4,
    "start_time": "2024-11-22T01:28:27.868Z"
   },
   {
    "duration": 6,
    "start_time": "2024-11-22T01:28:50.223Z"
   },
   {
    "duration": 4,
    "start_time": "2024-11-22T01:32:53.223Z"
   },
   {
    "duration": 3,
    "start_time": "2024-11-22T01:33:06.295Z"
   },
   {
    "duration": 18,
    "start_time": "2024-11-22T01:33:13.857Z"
   },
   {
    "duration": 28,
    "start_time": "2024-11-22T01:43:22.408Z"
   },
   {
    "duration": 45,
    "start_time": "2024-11-22T01:45:25.643Z"
   },
   {
    "duration": 18,
    "start_time": "2024-11-22T01:46:06.039Z"
   },
   {
    "duration": 16,
    "start_time": "2024-11-22T01:46:15.668Z"
   },
   {
    "duration": 3,
    "start_time": "2024-11-22T01:49:02.251Z"
   },
   {
    "duration": 18,
    "start_time": "2024-11-22T01:49:05.572Z"
   },
   {
    "duration": 18,
    "start_time": "2024-11-22T01:49:44.624Z"
   },
   {
    "duration": 16,
    "start_time": "2024-11-22T01:50:37.950Z"
   },
   {
    "duration": 4,
    "start_time": "2024-11-22T02:00:20.927Z"
   },
   {
    "duration": 19,
    "start_time": "2024-11-22T02:00:24.917Z"
   },
   {
    "duration": 18,
    "start_time": "2024-11-22T02:01:09.310Z"
   },
   {
    "duration": 2,
    "start_time": "2024-11-22T02:01:30.107Z"
   },
   {
    "duration": 19,
    "start_time": "2024-11-22T02:01:34.740Z"
   },
   {
    "duration": 17,
    "start_time": "2024-11-22T02:01:52.227Z"
   },
   {
    "duration": 4,
    "start_time": "2024-11-22T02:01:57.599Z"
   },
   {
    "duration": 17,
    "start_time": "2024-11-22T02:02:33.487Z"
   },
   {
    "duration": 18,
    "start_time": "2024-11-22T02:04:01.125Z"
   },
   {
    "duration": 18,
    "start_time": "2024-11-22T02:05:06.258Z"
   },
   {
    "duration": 4,
    "start_time": "2024-11-22T02:06:31.389Z"
   },
   {
    "duration": 12,
    "start_time": "2024-11-22T02:07:50.897Z"
   },
   {
    "duration": 3,
    "start_time": "2024-11-22T02:08:17.921Z"
   },
   {
    "duration": 15,
    "start_time": "2024-11-22T02:08:36.484Z"
   },
   {
    "duration": 12,
    "start_time": "2024-11-22T02:08:45.785Z"
   },
   {
    "duration": 3,
    "start_time": "2024-11-22T02:09:05.934Z"
   },
   {
    "duration": 19,
    "start_time": "2024-11-22T02:10:01.605Z"
   },
   {
    "duration": 12,
    "start_time": "2024-11-22T02:10:12.651Z"
   },
   {
    "duration": 2,
    "start_time": "2024-11-22T02:11:49.009Z"
   },
   {
    "duration": 14,
    "start_time": "2024-11-22T02:11:57.748Z"
   },
   {
    "duration": 3,
    "start_time": "2024-11-22T02:12:15.350Z"
   },
   {
    "duration": 4,
    "start_time": "2024-11-22T02:12:25.370Z"
   },
   {
    "duration": 4,
    "start_time": "2024-11-22T02:15:15.190Z"
   },
   {
    "duration": 3,
    "start_time": "2024-11-22T02:15:42.781Z"
   },
   {
    "duration": 4,
    "start_time": "2024-11-22T02:16:52.857Z"
   },
   {
    "duration": 12,
    "start_time": "2024-11-22T02:17:44.797Z"
   },
   {
    "duration": 11,
    "start_time": "2024-11-22T02:17:56.487Z"
   },
   {
    "duration": 12,
    "start_time": "2024-11-22T02:20:25.286Z"
   },
   {
    "duration": 12,
    "start_time": "2024-11-22T02:20:43.961Z"
   },
   {
    "duration": 12,
    "start_time": "2024-11-22T02:20:58.437Z"
   },
   {
    "duration": 24,
    "start_time": "2024-11-22T02:21:48.002Z"
   },
   {
    "duration": 11,
    "start_time": "2024-11-22T02:22:44.612Z"
   },
   {
    "duration": 13,
    "start_time": "2024-11-22T02:23:27.283Z"
   },
   {
    "duration": 11,
    "start_time": "2024-11-22T02:23:42.997Z"
   },
   {
    "duration": 13,
    "start_time": "2024-11-22T02:24:19.129Z"
   },
   {
    "duration": 321,
    "start_time": "2024-11-22T02:24:33.633Z"
   },
   {
    "duration": 34,
    "start_time": "2024-11-22T02:24:45.830Z"
   },
   {
    "duration": 13,
    "start_time": "2024-11-22T02:24:54.305Z"
   },
   {
    "duration": 12,
    "start_time": "2024-11-22T02:25:59.954Z"
   },
   {
    "duration": 12,
    "start_time": "2024-11-22T02:28:35.035Z"
   },
   {
    "duration": 115,
    "start_time": "2024-11-22T02:28:46.339Z"
   },
   {
    "duration": 7,
    "start_time": "2024-11-22T02:28:50.874Z"
   },
   {
    "duration": 411,
    "start_time": "2024-11-22T02:29:04.576Z"
   },
   {
    "duration": 4,
    "start_time": "2024-11-22T02:29:51.392Z"
   },
   {
    "duration": 13,
    "start_time": "2024-11-22T02:29:54.154Z"
   },
   {
    "duration": 50,
    "start_time": "2024-11-22T02:30:15.298Z"
   },
   {
    "duration": 3,
    "start_time": "2024-11-22T02:30:29.102Z"
   },
   {
    "duration": 12,
    "start_time": "2024-11-22T02:30:32.863Z"
   },
   {
    "duration": 3,
    "start_time": "2024-11-22T02:30:50.576Z"
   },
   {
    "duration": 15,
    "start_time": "2024-11-22T02:33:43.803Z"
   },
   {
    "duration": 12,
    "start_time": "2024-11-22T02:34:15.921Z"
   },
   {
    "duration": 17,
    "start_time": "2024-11-22T02:34:47.739Z"
   },
   {
    "duration": 5,
    "start_time": "2024-11-22T21:47:04.692Z"
   },
   {
    "duration": 157,
    "start_time": "2024-11-22T21:47:06.621Z"
   },
   {
    "duration": 12,
    "start_time": "2024-11-22T21:47:28.958Z"
   },
   {
    "duration": 12,
    "start_time": "2024-11-22T21:47:35.723Z"
   },
   {
    "duration": 12,
    "start_time": "2024-11-22T21:55:37.374Z"
   },
   {
    "duration": 13,
    "start_time": "2024-11-22T21:56:57.458Z"
   },
   {
    "duration": 7,
    "start_time": "2024-11-23T14:31:18.271Z"
   },
   {
    "duration": 3,
    "start_time": "2024-11-23T14:38:10.451Z"
   },
   {
    "duration": 161,
    "start_time": "2024-11-23T14:38:55.613Z"
   },
   {
    "duration": 20,
    "start_time": "2024-11-23T14:39:35.623Z"
   },
   {
    "duration": 320,
    "start_time": "2024-11-23T14:40:22.029Z"
   },
   {
    "duration": 115,
    "start_time": "2024-11-23T14:40:29.047Z"
   },
   {
    "duration": 6,
    "start_time": "2024-11-23T14:40:36.330Z"
   },
   {
    "duration": 410,
    "start_time": "2024-11-23T14:40:44.933Z"
   },
   {
    "duration": 49,
    "start_time": "2024-11-23T14:47:51.940Z"
   },
   {
    "duration": 3,
    "start_time": "2024-11-23T14:47:57.360Z"
   },
   {
    "duration": 2,
    "start_time": "2024-11-23T14:48:00.229Z"
   },
   {
    "duration": 48,
    "start_time": "2024-11-23T14:48:03.091Z"
   },
   {
    "duration": 47,
    "start_time": "2024-11-23T14:48:03.683Z"
   },
   {
    "duration": 3,
    "start_time": "2024-11-23T14:49:00.527Z"
   },
   {
    "duration": 44,
    "start_time": "2024-11-23T14:49:03.517Z"
   },
   {
    "duration": 7,
    "start_time": "2024-11-25T11:17:19.828Z"
   },
   {
    "duration": 3,
    "start_time": "2024-11-25T11:17:31.715Z"
   },
   {
    "duration": 2,
    "start_time": "2024-11-25T11:17:47.789Z"
   },
   {
    "duration": 3,
    "start_time": "2024-11-25T11:17:50.211Z"
   },
   {
    "duration": 3,
    "start_time": "2024-11-25T11:18:32.805Z"
   },
   {
    "duration": 3,
    "start_time": "2024-11-25T11:18:52.931Z"
   },
   {
    "duration": 288,
    "start_time": "2024-11-25T15:52:19.707Z"
   },
   {
    "duration": 112,
    "start_time": "2024-11-25T15:52:19.997Z"
   },
   {
    "duration": 7,
    "start_time": "2024-11-25T15:52:20.111Z"
   },
   {
    "duration": 21,
    "start_time": "2024-11-25T15:52:20.119Z"
   },
   {
    "duration": 3,
    "start_time": "2024-11-25T15:52:20.143Z"
   },
   {
    "duration": 3,
    "start_time": "2024-11-25T15:52:20.148Z"
   },
   {
    "duration": 4,
    "start_time": "2024-11-25T15:52:20.153Z"
   },
   {
    "duration": 3,
    "start_time": "2024-11-25T15:52:20.159Z"
   },
   {
    "duration": 4,
    "start_time": "2024-11-25T15:52:20.163Z"
   },
   {
    "duration": 17,
    "start_time": "2024-11-25T15:52:20.168Z"
   },
   {
    "duration": 50,
    "start_time": "2024-11-25T15:52:20.187Z"
   },
   {
    "duration": 16,
    "start_time": "2024-11-25T15:52:20.239Z"
   },
   {
    "duration": 41,
    "start_time": "2024-11-25T15:52:20.257Z"
   },
   {
    "duration": 65,
    "start_time": "2024-11-25T15:52:20.301Z"
   },
   {
    "duration": 40,
    "start_time": "2024-11-25T15:52:20.367Z"
   },
   {
    "duration": 6,
    "start_time": "2024-11-25T15:52:20.409Z"
   },
   {
    "duration": 2,
    "start_time": "2024-11-25T15:52:20.432Z"
   },
   {
    "duration": 5,
    "start_time": "2024-11-25T15:52:20.436Z"
   },
   {
    "duration": 0,
    "start_time": "2024-11-25T15:52:20.443Z"
   },
   {
    "duration": 0,
    "start_time": "2024-11-25T15:52:20.444Z"
   },
   {
    "duration": 0,
    "start_time": "2024-11-25T15:52:20.446Z"
   },
   {
    "duration": 0,
    "start_time": "2024-11-25T15:52:20.447Z"
   },
   {
    "duration": 0,
    "start_time": "2024-11-25T15:52:20.449Z"
   },
   {
    "duration": 0,
    "start_time": "2024-11-25T15:52:20.450Z"
   },
   {
    "duration": 0,
    "start_time": "2024-11-25T15:52:20.451Z"
   },
   {
    "duration": 0,
    "start_time": "2024-11-25T15:52:20.452Z"
   },
   {
    "duration": 0,
    "start_time": "2024-11-25T15:52:20.453Z"
   },
   {
    "duration": 0,
    "start_time": "2024-11-25T15:52:20.455Z"
   },
   {
    "duration": 0,
    "start_time": "2024-11-25T15:52:20.456Z"
   },
   {
    "duration": 15,
    "start_time": "2024-11-25T15:54:00.892Z"
   },
   {
    "duration": 87,
    "start_time": "2024-11-25T15:55:09.844Z"
   },
   {
    "duration": 3,
    "start_time": "2024-11-25T15:56:51.541Z"
   },
   {
    "duration": 2,
    "start_time": "2024-11-25T15:56:52.571Z"
   },
   {
    "duration": 3,
    "start_time": "2024-11-25T15:57:05.432Z"
   },
   {
    "duration": 3,
    "start_time": "2024-11-25T15:57:13.779Z"
   },
   {
    "duration": 3,
    "start_time": "2024-11-25T15:57:14.300Z"
   },
   {
    "duration": 12,
    "start_time": "2024-11-25T15:58:55.065Z"
   },
   {
    "duration": 12,
    "start_time": "2024-11-25T15:59:01.239Z"
   },
   {
    "duration": 8,
    "start_time": "2024-11-25T20:07:54.716Z"
   },
   {
    "duration": 161,
    "start_time": "2024-11-25T20:08:19.764Z"
   },
   {
    "duration": 2,
    "start_time": "2024-11-25T20:11:01.651Z"
   },
   {
    "duration": 2,
    "start_time": "2024-11-25T20:11:20.287Z"
   },
   {
    "duration": 11,
    "start_time": "2024-11-25T20:11:37.863Z"
   },
   {
    "duration": 10,
    "start_time": "2024-11-25T20:12:14.980Z"
   },
   {
    "duration": 11,
    "start_time": "2024-11-25T20:12:23.967Z"
   },
   {
    "duration": 11,
    "start_time": "2024-11-25T20:12:32.697Z"
   },
   {
    "duration": 11,
    "start_time": "2024-11-25T20:12:56.721Z"
   },
   {
    "duration": 4,
    "start_time": "2024-11-25T20:19:45.886Z"
   },
   {
    "duration": 3,
    "start_time": "2024-11-25T20:19:50.370Z"
   },
   {
    "duration": 12,
    "start_time": "2024-11-25T20:25:11.196Z"
   },
   {
    "duration": 32,
    "start_time": "2024-11-25T20:25:13.079Z"
   },
   {
    "duration": 11,
    "start_time": "2024-11-25T20:26:17.132Z"
   },
   {
    "duration": 18,
    "start_time": "2024-11-25T20:26:43.294Z"
   },
   {
    "duration": 11,
    "start_time": "2024-11-25T20:26:44.137Z"
   },
   {
    "duration": 3,
    "start_time": "2024-11-25T20:27:31.010Z"
   },
   {
    "duration": 11,
    "start_time": "2024-11-25T20:27:31.553Z"
   },
   {
    "duration": 12,
    "start_time": "2024-11-25T20:27:36.036Z"
   },
   {
    "duration": 12,
    "start_time": "2024-11-25T20:27:49.921Z"
   },
   {
    "duration": 11,
    "start_time": "2024-11-25T20:28:59.346Z"
   },
   {
    "duration": 6,
    "start_time": "2024-11-25T21:26:07.086Z"
   },
   {
    "duration": 155,
    "start_time": "2024-11-25T21:26:08.265Z"
   },
   {
    "duration": 11,
    "start_time": "2024-11-25T21:26:53.709Z"
   },
   {
    "duration": 318,
    "start_time": "2024-11-25T21:27:01.543Z"
   },
   {
    "duration": 115,
    "start_time": "2024-11-25T21:27:02.532Z"
   },
   {
    "duration": 3,
    "start_time": "2024-11-25T21:27:11.740Z"
   },
   {
    "duration": 35,
    "start_time": "2024-11-25T21:27:12.325Z"
   },
   {
    "duration": 13,
    "start_time": "2024-11-25T21:40:00.649Z"
   },
   {
    "duration": 3,
    "start_time": "2024-11-25T21:40:57.295Z"
   },
   {
    "duration": 395,
    "start_time": "2024-11-25T21:40:58.964Z"
   },
   {
    "duration": 3,
    "start_time": "2024-11-25T21:41:09.952Z"
   },
   {
    "duration": 43,
    "start_time": "2024-11-25T21:41:13.202Z"
   },
   {
    "duration": 43,
    "start_time": "2024-11-25T21:42:17.919Z"
   },
   {
    "duration": 2,
    "start_time": "2024-11-25T21:42:48.028Z"
   },
   {
    "duration": 93,
    "start_time": "2024-11-25T21:42:49.303Z"
   },
   {
    "duration": 8,
    "start_time": "2024-11-25T21:42:51.005Z"
   },
   {
    "duration": 24,
    "start_time": "2024-11-25T21:42:54.952Z"
   },
   {
    "duration": 3,
    "start_time": "2024-11-25T21:43:02.200Z"
   },
   {
    "duration": 4,
    "start_time": "2024-11-25T21:43:06.910Z"
   },
   {
    "duration": 4,
    "start_time": "2024-11-25T21:43:10.228Z"
   },
   {
    "duration": 4,
    "start_time": "2024-11-25T21:43:13.173Z"
   },
   {
    "duration": 3,
    "start_time": "2024-11-25T21:43:17.392Z"
   },
   {
    "duration": 18,
    "start_time": "2024-11-25T21:43:20.486Z"
   },
   {
    "duration": 14,
    "start_time": "2024-11-25T21:43:24.637Z"
   },
   {
    "duration": 17,
    "start_time": "2024-11-25T21:43:25.895Z"
   },
   {
    "duration": 45,
    "start_time": "2024-11-25T21:43:28.702Z"
   },
   {
    "duration": 51,
    "start_time": "2024-11-25T21:43:30.741Z"
   },
   {
    "duration": 39,
    "start_time": "2024-11-25T21:43:31.446Z"
   },
   {
    "duration": 6,
    "start_time": "2024-11-25T21:43:34.739Z"
   },
   {
    "duration": 3,
    "start_time": "2024-11-25T21:43:42.230Z"
   },
   {
    "duration": 22,
    "start_time": "2024-11-25T21:43:42.872Z"
   },
   {
    "duration": 19,
    "start_time": "2024-11-25T21:43:46.302Z"
   },
   {
    "duration": 3,
    "start_time": "2024-11-25T21:43:54.451Z"
   },
   {
    "duration": 15,
    "start_time": "2024-11-25T21:45:48.249Z"
   },
   {
    "duration": 3,
    "start_time": "2024-11-25T21:45:55.286Z"
   },
   {
    "duration": 14,
    "start_time": "2024-11-25T21:45:56.324Z"
   },
   {
    "duration": 12,
    "start_time": "2024-11-25T21:46:16.642Z"
   },
   {
    "duration": 17,
    "start_time": "2024-11-25T21:46:19.766Z"
   },
   {
    "duration": 12,
    "start_time": "2024-11-25T21:46:22.311Z"
   },
   {
    "duration": 9,
    "start_time": "2024-11-25T21:51:02.682Z"
   },
   {
    "duration": 5,
    "start_time": "2024-11-25T21:51:16.830Z"
   },
   {
    "duration": 18,
    "start_time": "2024-11-25T21:51:24.402Z"
   },
   {
    "duration": 18,
    "start_time": "2024-11-25T21:51:33.534Z"
   },
   {
    "duration": 18,
    "start_time": "2024-11-25T21:51:46.930Z"
   },
   {
    "duration": 2,
    "start_time": "2024-11-25T21:52:16.280Z"
   },
   {
    "duration": 4,
    "start_time": "2024-11-25T21:52:44.530Z"
   },
   {
    "duration": 13,
    "start_time": "2024-11-25T21:56:28.462Z"
   },
   {
    "duration": 6,
    "start_time": "2024-11-25T21:56:38.837Z"
   },
   {
    "duration": 2,
    "start_time": "2024-11-25T21:56:45.835Z"
   },
   {
    "duration": 12,
    "start_time": "2024-11-25T21:56:46.904Z"
   },
   {
    "duration": 12,
    "start_time": "2024-11-25T21:56:50.701Z"
   },
   {
    "duration": 15,
    "start_time": "2024-11-25T21:56:56.362Z"
   },
   {
    "duration": 13,
    "start_time": "2024-11-25T21:57:01.959Z"
   },
   {
    "duration": 11,
    "start_time": "2024-11-25T22:00:13.595Z"
   },
   {
    "duration": 13,
    "start_time": "2024-11-25T22:04:41.518Z"
   },
   {
    "duration": 40,
    "start_time": "2024-11-25T22:04:44.621Z"
   },
   {
    "duration": 18,
    "start_time": "2024-11-25T22:05:32.195Z"
   },
   {
    "duration": 10,
    "start_time": "2024-11-25T22:06:56.565Z"
   },
   {
    "duration": 19,
    "start_time": "2024-11-25T22:07:12.870Z"
   },
   {
    "duration": 10,
    "start_time": "2024-11-25T22:07:29.258Z"
   },
   {
    "duration": 4,
    "start_time": "2024-11-25T22:07:39.009Z"
   },
   {
    "duration": 4,
    "start_time": "2024-11-25T22:07:42.790Z"
   },
   {
    "duration": 12,
    "start_time": "2024-11-25T22:15:42.842Z"
   },
   {
    "duration": 10,
    "start_time": "2024-11-25T22:15:57.166Z"
   },
   {
    "duration": 3,
    "start_time": "2024-11-25T22:26:36.318Z"
   },
   {
    "duration": 13,
    "start_time": "2024-11-25T22:26:37.656Z"
   },
   {
    "duration": 12,
    "start_time": "2024-11-25T22:26:39.964Z"
   },
   {
    "duration": 14,
    "start_time": "2024-11-25T22:26:40.407Z"
   },
   {
    "duration": 12,
    "start_time": "2024-11-25T22:26:40.827Z"
   },
   {
    "duration": 15,
    "start_time": "2024-11-25T22:26:42.510Z"
   },
   {
    "duration": 13,
    "start_time": "2024-11-25T22:27:00.326Z"
   },
   {
    "duration": 13,
    "start_time": "2024-11-25T22:27:01.502Z"
   },
   {
    "duration": 14,
    "start_time": "2024-11-25T22:27:09.806Z"
   },
   {
    "duration": 13,
    "start_time": "2024-11-25T22:27:13.044Z"
   }
  ],
  "colab": {
   "collapsed_sections": [
    "E0vqbgi9ay0H",
    "VUC88oWjTJw2"
   ],
   "provenance": []
  },
  "kernelspec": {
   "display_name": "Python 3 (ipykernel)",
   "language": "python",
   "name": "python3"
  },
  "language_info": {
   "codemirror_mode": {
    "name": "ipython",
    "version": 3
   },
   "file_extension": ".py",
   "mimetype": "text/x-python",
   "name": "python",
   "nbconvert_exporter": "python",
   "pygments_lexer": "ipython3",
   "version": "3.9.19"
  },
  "toc": {
   "base_numbering": 1,
   "nav_menu": {},
   "number_sections": true,
   "sideBar": true,
   "skip_h1_title": true,
   "title_cell": "Table of Contents",
   "title_sidebar": "Contents",
   "toc_cell": false,
   "toc_position": {},
   "toc_section_display": true,
   "toc_window_display": false
  }
 },
 "nbformat": 4,
 "nbformat_minor": 1
}
